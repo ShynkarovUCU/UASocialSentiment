{
 "cells": [
  {
   "cell_type": "code",
   "execution_count": null,
   "id": "988d3c9f",
   "metadata": {},
   "outputs": [],
   "source": []
  },
  {
   "cell_type": "code",
   "execution_count": 1,
   "id": "ecc26498",
   "metadata": {
    "ExecuteTime": {
     "end_time": "2025-03-31T11:28:55.881930Z",
     "start_time": "2025-03-31T11:28:55.454439Z"
    }
   },
   "outputs": [],
   "source": [
    "from openai import OpenAI\n",
    "\n",
    "# Init DeepSeek API client\n",
    "client = OpenAI(\n",
    "    api_key=\"sk-f47fa990b47b47909bd1de489753fd8a\", \n",
    "    base_url=\"https://api.deepseek.com\"\n",
    ")"
   ]
  },
  {
   "cell_type": "code",
   "execution_count": 9,
   "id": "f033a038",
   "metadata": {
    "ExecuteTime": {
     "end_time": "2025-03-31T11:33:00.717118Z",
     "start_time": "2025-03-31T11:33:00.704626Z"
    }
   },
   "outputs": [],
   "source": [
    "def predict_sentiment_deepseek(text):\n",
    "    prompt = f\"\"\"\n",
    "You are a sentiment analysis expert. Classify the following social media post as one of the following sentiment categories:\n",
    "- Positive\n",
    "- Negative\n",
    "- Neutral\n",
    "- Mixed (e.g., it includes both positive and negative expressions. Example: Упаковка яркая и аккуратная, все материалы качественные, ничего не пролилось и не сломалось. Несмотря на то, что инструкции могли бы быть чуть более подробными, сам процесс оказался очень увлекательным. Особенно понравились ароматические добавки — свечи получились не только красивыми, но и приятно пахнущими. Ребёнок в восторге, сразу захотела делать ещё. Если ищете подарок для творческой девочки — очень рекомендую!)\n",
    "\n",
    "Only return one of the labels: Positive, Negative, Neutral, or Mixed.\n",
    "\n",
    "Text: \"{text}\"\n",
    "\n",
    "Label:\"\"\"\n",
    "\n",
    "    try:\n",
    "        response = client.chat.completions.create(\n",
    "            model=\"deepseek-chat\",\n",
    "            messages=[\n",
    "                {\"role\": \"system\", \"content\": \"You are a sentiment analysis assistant.\"},\n",
    "                {\"role\": \"user\", \"content\": prompt}\n",
    "            ]\n",
    "        )\n",
    "        return response.choices[0].message.content.strip()\n",
    "    except Exception as e:\n",
    "        return f\"ERROR: {e}\""
   ]
  },
  {
   "cell_type": "code",
   "execution_count": 3,
   "id": "c7c4a84c",
   "metadata": {
    "ExecuteTime": {
     "end_time": "2025-03-31T11:29:58.112615Z",
     "start_time": "2025-03-31T11:29:57.613267Z"
    }
   },
   "outputs": [],
   "source": [
    "import pandas as pd\n",
    "df=pd.read_csv(\"ua_sentiment_dataset_with_test.csv\")"
   ]
  },
  {
   "cell_type": "code",
   "execution_count": 4,
   "id": "d0ba2dca",
   "metadata": {
    "ExecuteTime": {
     "end_time": "2025-03-31T11:29:59.795533Z",
     "start_time": "2025-03-31T11:29:59.786655Z"
    }
   },
   "outputs": [],
   "source": [
    "texts=df[\"document_content\"].values.tolist()"
   ]
  },
  {
   "cell_type": "code",
   "execution_count": 31,
   "id": "8414d04d",
   "metadata": {
    "ExecuteTime": {
     "end_time": "2025-04-01T08:51:55.621081Z",
     "start_time": "2025-04-01T08:29:52.556425Z"
    }
   },
   "outputs": [
    {
     "name": "stderr",
     "output_type": "stream",
     "text": [
      "100%|█████████████████████████████████████████| 269/269 [22:03<00:00,  4.92s/it]\n"
     ]
    }
   ],
   "source": [
    "from tqdm import tqdm\n",
    "# sentiments = []\n",
    "\n",
    "for text in tqdm(texts[9016:]):  # Or texts[4876:] if continuing\n",
    "    label = predict_sentiment_deepseek(text)\n",
    "    sentiments.append(label)\n",
    "\n"
   ]
  },
  {
   "cell_type": "code",
   "execution_count": 37,
   "id": "9f26c48e",
   "metadata": {
    "ExecuteTime": {
     "end_time": "2025-04-01T08:55:31.032164Z",
     "start_time": "2025-04-01T08:55:31.018162Z"
    }
   },
   "outputs": [
    {
     "name": "stdout",
     "output_type": "stream",
     "text": [
      "- The sentiment of the given text can be classified as **Positive**. \n",
      "\n",
      "The statement conveys a proactive and optimistic message about efforts to increase the number of Patriot systems in Ukraine, which aligns with a positive sentiment. The emoji (👹) might seem out of place, but it doesn't negate the overall positive tone of the statement itself. \n",
      "\n",
      "Label: **Positive**\n",
      "- The sentiment of the provided social media post can be classified as **Neutral**. The text primarily presents factual information about the history, construction, and features of St. Andrew's Church in Kyiv without expressing strong positive or negative emotions. While there is admiration implied in describing it as a \"перлина Києва\" (pearl of Kyiv), the overall tone remains informative rather than emotionally charged.  \n",
      "\n",
      "**Label: Neutral**\n",
      "- \n",
      "- \n"
     ]
    }
   ],
   "source": [
    "sents=['Negative', 'Neutral','Positive','Mixed']\n",
    "sentiment_cleaned=[]\n",
    "for e in sentiments:\n",
    "    if e not in sents:\n",
    "        print('-',e)\n",
    "        if 'Mixed' in e:\n",
    "            sentiment_cleaned.append('Mixed')\n",
    "        elif 'Neutral' in e:\n",
    "            sentiment_cleaned.append('Neutral')\n",
    "        elif 'Positive' in e:\n",
    "            sentiment_cleaned.append('Positive')\n",
    "        elif 'Negative' in e:\n",
    "            sentiment_cleaned.append('Negative')\n",
    "        else:\n",
    "            sentiment_cleaned.append('Neutral')\n",
    "    else:\n",
    "        sentiment_cleaned.append(e)"
   ]
  },
  {
   "cell_type": "code",
   "execution_count": 38,
   "id": "d5d3b1e4",
   "metadata": {
    "ExecuteTime": {
     "end_time": "2025-04-01T08:55:44.502621Z",
     "start_time": "2025-04-01T08:55:44.493702Z"
    }
   },
   "outputs": [
    {
     "data": {
      "text/plain": [
       "{'Mixed', 'Negative', 'Neutral', 'Positive'}"
      ]
     },
     "execution_count": 38,
     "metadata": {},
     "output_type": "execute_result"
    }
   ],
   "source": [
    "set(sentiment_cleaned)"
   ]
  },
  {
   "cell_type": "code",
   "execution_count": 50,
   "id": "5e9abbe9",
   "metadata": {
    "ExecuteTime": {
     "end_time": "2025-04-01T09:03:20.139985Z",
     "start_time": "2025-04-01T09:03:20.053451Z"
    }
   },
   "outputs": [],
   "source": [
    "df=pd.read_csv(\"ua_sentiment_dataset_labeled_lang.csv\")"
   ]
  },
  {
   "cell_type": "code",
   "execution_count": 51,
   "id": "6125bf0f",
   "metadata": {
    "ExecuteTime": {
     "end_time": "2025-04-01T09:03:20.697759Z",
     "start_time": "2025-04-01T09:03:20.668617Z"
    }
   },
   "outputs": [],
   "source": [
    "df[\"sentiment_deepseek\"] = sentiment_cleaned\n",
    "df[\"annotator_response\"] = df[\"annotator_response\"].str.strip().str.lower()\n",
    "df[\"sentiment_deepseek\"] = df[\"sentiment_deepseek\"].str.strip().str.lower()\n",
    "df_filtered = df[df[\"annotator_response\"].str.lower() != \"idk\"].copy()\n"
   ]
  },
  {
   "cell_type": "code",
   "execution_count": 52,
   "id": "59f3d979",
   "metadata": {
    "ExecuteTime": {
     "end_time": "2025-04-01T09:03:21.947737Z",
     "start_time": "2025-04-01T09:03:21.935078Z"
    }
   },
   "outputs": [
    {
     "data": {
      "text/plain": [
       "[[4312, 'Code-mixed'], [1799, 'Russian'], [2924, 'Ukrainian']]"
      ]
     },
     "execution_count": 52,
     "metadata": {},
     "output_type": "execute_result"
    }
   ],
   "source": [
    "[[df_filtered['language'].values.tolist().count(e),e] for e in list(set(df_filtered['language'].values.tolist()))]"
   ]
  },
  {
   "cell_type": "code",
   "execution_count": 53,
   "id": "0651113d",
   "metadata": {
    "ExecuteTime": {
     "end_time": "2025-04-01T09:03:36.817891Z",
     "start_time": "2025-04-01T09:03:36.625259Z"
    }
   },
   "outputs": [
    {
     "name": "stdout",
     "output_type": "stream",
     "text": [
      "{'by_group': {'Code-mixed': {'macro': {'f1': 0.5679725039763073,\n",
      "                                       'precision': 0.6231562657145774,\n",
      "                                       'recall': 0.5744749801144564},\n",
      "                             'micro': {'f1': 0.6565398886827458,\n",
      "                                       'precision': 0.6565398886827458,\n",
      "                                       'recall': 0.6565398886827458}},\n",
      "              'Russian': {'macro': {'f1': 0.43240327243491333,\n",
      "                                    'precision': 0.47080404431791834,\n",
      "                                    'recall': 0.4653637585769277},\n",
      "                          'micro': {'f1': 0.5347415230683713,\n",
      "                                    'precision': 0.5347415230683713,\n",
      "                                    'recall': 0.5347415230683713}},\n",
      "              'Ukrainian': {'macro': {'f1': 0.5398748021951669,\n",
      "                                      'precision': 0.5486586215507706,\n",
      "                                      'recall': 0.6050984949211182},\n",
      "                            'micro': {'f1': 0.6118331053351573,\n",
      "                                      'precision': 0.6118331053351573,\n",
      "                                      'recall': 0.6118331053351573}}},\n",
      " 'overall': {'macro': {'f1': 0.5427061306168878,\n",
      "                       'precision': 0.5680595767266463,\n",
      "                       'recall': 0.5685081971720174},\n",
      "             'micro': {'f1': 0.617819590481461,\n",
      "                       'precision': 0.617819590481461,\n",
      "                       'recall': 0.617819590481461}}}\n"
     ]
    }
   ],
   "source": [
    "from sklearn.metrics import precision_recall_fscore_support, classification_report\n",
    "import pandas as pd\n",
    "\n",
    "def evaluate_sentiment(df, y_true_col, y_pred_col, group_col=\"language\"):\n",
    "    \"\"\"\n",
    "    Evaluate sentiment classification with overall and per-language-group metrics.\n",
    "    \n",
    "    Params:\n",
    "    - df: pd.DataFrame containing predictions and true labels\n",
    "    - y_true_col: column name of true labels (e.g. human annotations)\n",
    "    - y_pred_col: column name of model predictions (e.g. DeepSeek output)\n",
    "    - group_col: column to group by (e.g. 'language')\n",
    "\n",
    "    Returns:\n",
    "    - dict with overall metrics and per-group metrics\n",
    "    \"\"\"\n",
    "    y_true = df[y_true_col]\n",
    "    y_pred = df[y_pred_col]\n",
    "\n",
    "    # Overall metrics\n",
    "    overall_macro = precision_recall_fscore_support(y_true, y_pred, average='macro', zero_division=0)\n",
    "    overall_micro = precision_recall_fscore_support(y_true, y_pred, average='micro', zero_division=0)\n",
    "\n",
    "    result = {\n",
    "        \"overall\": {\n",
    "            \"macro\": {\n",
    "                \"precision\": overall_macro[0],\n",
    "                \"recall\": overall_macro[1],\n",
    "                \"f1\": overall_macro[2],\n",
    "            },\n",
    "            \"micro\": {\n",
    "                \"precision\": overall_micro[0],\n",
    "                \"recall\": overall_micro[1],\n",
    "                \"f1\": overall_micro[2],\n",
    "            }\n",
    "        },\n",
    "        \"by_group\": {}\n",
    "    }\n",
    "\n",
    "    # Per-language group metrics\n",
    "    for group_value in df[group_col].unique():\n",
    "        subset = df[df[group_col] == group_value]\n",
    "        if subset.empty:\n",
    "            continue\n",
    "\n",
    "        group_true = subset[y_true_col]\n",
    "        group_pred = subset[y_pred_col]\n",
    "\n",
    "        macro = precision_recall_fscore_support(group_true, group_pred, average='macro', zero_division=0)\n",
    "        micro = precision_recall_fscore_support(group_true, group_pred, average='micro', zero_division=0)\n",
    "\n",
    "        result[\"by_group\"][group_value] = {\n",
    "            \"macro\": {\n",
    "                \"precision\": macro[0],\n",
    "                \"recall\": macro[1],\n",
    "                \"f1\": macro[2],\n",
    "            },\n",
    "            \"micro\": {\n",
    "                \"precision\": micro[0],\n",
    "                \"recall\": micro[1],\n",
    "                \"f1\": micro[2],\n",
    "            }\n",
    "        }\n",
    "\n",
    "    return result\n",
    "\n",
    "metrics = evaluate_sentiment(df_filtered, y_true_col=\"annotator_response\", y_pred_col=\"sentiment_deepseek\")\n",
    "\n",
    "import pprint\n",
    "pprint.pprint(metrics)"
   ]
  },
  {
   "cell_type": "code",
   "execution_count": 54,
   "id": "33db19a7",
   "metadata": {
    "ExecuteTime": {
     "end_time": "2025-04-01T09:04:57.151464Z",
     "start_time": "2025-04-01T09:04:57.052787Z"
    }
   },
   "outputs": [],
   "source": [
    "df.to_csv(\"ua_sentiment_dataset_labeled_lang_deepseek.csv\", index=False)"
   ]
  },
  {
   "cell_type": "code",
   "execution_count": null,
   "id": "c7021aae",
   "metadata": {},
   "outputs": [],
   "source": []
  }
 ],
 "metadata": {
  "kernelspec": {
   "display_name": "nika",
   "language": "python",
   "name": "nika"
  },
  "language_info": {
   "codemirror_mode": {
    "name": "ipython",
    "version": 3
   },
   "file_extension": ".py",
   "mimetype": "text/x-python",
   "name": "python",
   "nbconvert_exporter": "python",
   "pygments_lexer": "ipython3",
   "version": "3.9.18"
  }
 },
 "nbformat": 4,
 "nbformat_minor": 5
}
