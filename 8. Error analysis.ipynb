{
 "cells": [
  {
   "cell_type": "markdown",
   "metadata": {
    "id": "SzGGQtbRE5EP"
   },
   "source": [
    "# Imports"
   ]
  },
  {
   "cell_type": "code",
   "execution_count": 2,
   "metadata": {},
   "outputs": [],
   "source": [
    "# import wandb\n",
    "# wandb.login()\n",
    "\n",
    "# wandb.init(\n",
    "#     project=\"ukrainian-sentiment\",  # Name your project\n",
    "#     name=\"roberta-ukrainian-sentiment\",  # Optional run name\n",
    "#     tags=[\"roberta\", \"ukrainian\", \"sentiment\"],  # Optional tags for filtering\n",
    "# )"
   ]
  },
  {
   "cell_type": "code",
   "execution_count": 70,
   "metadata": {},
   "outputs": [
    {
     "name": "stdout",
     "output_type": "stream",
     "text": [
      "\u001b[33mWARNING: Running pip as the 'root' user can result in broken permissions and conflicting behaviour with the system package manager, possibly rendering your system unusable.It is recommended to use a virtual environment instead: https://pip.pypa.io/warnings/venv. Use the --root-user-action option if you know what you are doing and want to suppress this warning.\u001b[0m\u001b[33m\n",
      "\u001b[0m"
     ]
    }
   ],
   "source": [
    "!pip install seaborn --quiet"
   ]
  },
  {
   "cell_type": "code",
   "execution_count": null,
   "metadata": {},
   "outputs": [],
   "source": []
  },
  {
   "cell_type": "code",
   "execution_count": 1,
   "metadata": {
    "id": "_CkWcO5mESa1"
   },
   "outputs": [],
   "source": [
    "import os\n",
    "import re\n",
    "from tqdm import tqdm\n",
    "import numpy as np\n",
    "import pandas as pd\n",
    "import matplotlib.pyplot as plt\n",
    "import seaborn as sns\n",
    "import pprint\n",
    "\n",
    "from transformers import pipeline, RobertaConfig, RobertaForSequenceClassification, RobertaTokenizer\n",
    "from transformers import BertConfig, BertForSequenceClassification, BertTokenizer\n",
    "\n",
    "import torch\n",
    "from torch.utils.data import Dataset, DataLoader\n",
    "from sklearn.preprocessing import LabelEncoder\n",
    "from sklearn.metrics import confusion_matrix, ConfusionMatrixDisplay, accuracy_score, precision_recall_fscore_support, classification_report\n",
    "from sklearn.calibration import calibration_curve\n",
    "\n",
    "from safetensors import safe_open\n",
    "from safetensors.torch import load_file"
   ]
  },
  {
   "cell_type": "code",
   "execution_count": 2,
   "metadata": {
    "id": "2UyJveV-EXQ1"
   },
   "outputs": [],
   "source": [
    "# import matplotlib as mpl\n",
    "\n",
    "# mpl.rcParams.update({\n",
    "#     \"font.size\": 14,         # base font size\n",
    "#     \"axes.titlesize\": 14,\n",
    "#     \"axes.labelsize\": 14,\n",
    "#     \"xtick.labelsize\": 14,\n",
    "#     \"ytick.labelsize\": 14,\n",
    "#     \"legend.fontsize\": 14,\n",
    "# })"
   ]
  },
  {
   "cell_type": "code",
   "execution_count": null,
   "metadata": {},
   "outputs": [],
   "source": []
  },
  {
   "cell_type": "markdown",
   "metadata": {
    "id": "RKV2OfTME6rO"
   },
   "source": [
    "# Data"
   ]
  },
  {
   "cell_type": "code",
   "execution_count": 2,
   "metadata": {
    "id": "fWCwE3qcEXOX"
   },
   "outputs": [],
   "source": [
    "df = pd.read_parquet('final_17042025.parquet')"
   ]
  },
  {
   "cell_type": "code",
   "execution_count": 3,
   "metadata": {},
   "outputs": [
    {
     "data": {
      "text/plain": [
       "(12224, 18)"
      ]
     },
     "execution_count": 3,
     "metadata": {},
     "output_type": "execute_result"
    }
   ],
   "source": [
    "df.shape"
   ]
  },
  {
   "cell_type": "code",
   "execution_count": 4,
   "metadata": {},
   "outputs": [],
   "source": [
    "df.reset_index(inplace=True)"
   ]
  },
  {
   "cell_type": "code",
   "execution_count": 5,
   "metadata": {},
   "outputs": [
    {
     "data": {
      "text/html": [
       "<div>\n",
       "<style scoped>\n",
       "    .dataframe tbody tr th:only-of-type {\n",
       "        vertical-align: middle;\n",
       "    }\n",
       "\n",
       "    .dataframe tbody tr th {\n",
       "        vertical-align: top;\n",
       "    }\n",
       "\n",
       "    .dataframe thead th {\n",
       "        text-align: right;\n",
       "    }\n",
       "</style>\n",
       "<table border=\"1\" class=\"dataframe\">\n",
       "  <thead>\n",
       "    <tr style=\"text-align: right;\">\n",
       "      <th></th>\n",
       "      <th>index</th>\n",
       "      <th>response_id</th>\n",
       "      <th>document_id</th>\n",
       "      <th>user_id</th>\n",
       "      <th>annotator_sentiment</th>\n",
       "      <th>is_ck_annotation</th>\n",
       "      <th>response_timestamp</th>\n",
       "      <th>document_content</th>\n",
       "      <th>annotation_date</th>\n",
       "      <th>username</th>\n",
       "      <th>unique_document_id</th>\n",
       "      <th>language_wc</th>\n",
       "      <th>document_length</th>\n",
       "      <th>gpt_labels_v1</th>\n",
       "      <th>language_gpt</th>\n",
       "      <th>language_manual</th>\n",
       "      <th>language</th>\n",
       "      <th>stratification_label</th>\n",
       "      <th>df_set</th>\n",
       "    </tr>\n",
       "  </thead>\n",
       "  <tbody>\n",
       "    <tr>\n",
       "      <th>0</th>\n",
       "      <td>0</td>\n",
       "      <td>1</td>\n",
       "      <td>1</td>\n",
       "      <td>277133851</td>\n",
       "      <td>neutral</td>\n",
       "      <td>1</td>\n",
       "      <td>2025-03-09T23:23:07.220881</td>\n",
       "      <td>⚡️Українська делегація відправилася на перемов...</td>\n",
       "      <td>2025-03-09</td>\n",
       "      <td>O</td>\n",
       "      <td>1_1</td>\n",
       "      <td>uk</td>\n",
       "      <td>67</td>\n",
       "      <td>neutral</td>\n",
       "      <td>Ukrainian</td>\n",
       "      <td>ukrainian</td>\n",
       "      <td>ua</td>\n",
       "      <td>neutral_ua</td>\n",
       "      <td>train</td>\n",
       "    </tr>\n",
       "    <tr>\n",
       "      <th>1</th>\n",
       "      <td>1</td>\n",
       "      <td>3</td>\n",
       "      <td>2</td>\n",
       "      <td>1065283664</td>\n",
       "      <td>neutral</td>\n",
       "      <td>1</td>\n",
       "      <td>2025-03-09T23:44:28.262307</td>\n",
       "      <td>Вибухи на Одещині, попередньо — ППО.</td>\n",
       "      <td>2025-03-09</td>\n",
       "      <td>A</td>\n",
       "      <td>2_1</td>\n",
       "      <td>uk</td>\n",
       "      <td>36</td>\n",
       "      <td>negative</td>\n",
       "      <td>Ukrainian</td>\n",
       "      <td>ukrainian</td>\n",
       "      <td>ua</td>\n",
       "      <td>neutral_ua</td>\n",
       "      <td>validation</td>\n",
       "    </tr>\n",
       "    <tr>\n",
       "      <th>2</th>\n",
       "      <td>2</td>\n",
       "      <td>4</td>\n",
       "      <td>3</td>\n",
       "      <td>1065283664</td>\n",
       "      <td>negative</td>\n",
       "      <td>1</td>\n",
       "      <td>2025-03-09T23:45:00.503098</td>\n",
       "      <td>А что делать тем ,кто лишился своего жилья ,по...</td>\n",
       "      <td>2025-03-09</td>\n",
       "      <td>A</td>\n",
       "      <td>3_1</td>\n",
       "      <td>ru</td>\n",
       "      <td>177</td>\n",
       "      <td>negative</td>\n",
       "      <td>Code-mixed</td>\n",
       "      <td>russian</td>\n",
       "      <td>ru</td>\n",
       "      <td>negative_ru</td>\n",
       "      <td>test</td>\n",
       "    </tr>\n",
       "    <tr>\n",
       "      <th>3</th>\n",
       "      <td>3</td>\n",
       "      <td>5</td>\n",
       "      <td>4</td>\n",
       "      <td>1065283664</td>\n",
       "      <td>negative</td>\n",
       "      <td>1</td>\n",
       "      <td>2025-03-09T23:46:33.265766</td>\n",
       "      <td>Тогда учись быстро бегать. Для меня вопрос сло...</td>\n",
       "      <td>2025-03-09</td>\n",
       "      <td>A</td>\n",
       "      <td>4_1</td>\n",
       "      <td>ru</td>\n",
       "      <td>103</td>\n",
       "      <td>negative</td>\n",
       "      <td>Code-mixed</td>\n",
       "      <td>russian</td>\n",
       "      <td>ru</td>\n",
       "      <td>negative_ru</td>\n",
       "      <td>train</td>\n",
       "    </tr>\n",
       "    <tr>\n",
       "      <th>4</th>\n",
       "      <td>4</td>\n",
       "      <td>6</td>\n",
       "      <td>5</td>\n",
       "      <td>1065283664</td>\n",
       "      <td>neutral</td>\n",
       "      <td>1</td>\n",
       "      <td>2025-03-09T23:46:38.993496</td>\n",
       "      <td>Добрий день</td>\n",
       "      <td>2025-03-09</td>\n",
       "      <td>A</td>\n",
       "      <td>5_1</td>\n",
       "      <td>uk</td>\n",
       "      <td>11</td>\n",
       "      <td>neutral</td>\n",
       "      <td>Ukrainian</td>\n",
       "      <td>russian</td>\n",
       "      <td>ua</td>\n",
       "      <td>neutral_ua</td>\n",
       "      <td>train</td>\n",
       "    </tr>\n",
       "    <tr>\n",
       "      <th>...</th>\n",
       "      <td>...</td>\n",
       "      <td>...</td>\n",
       "      <td>...</td>\n",
       "      <td>...</td>\n",
       "      <td>...</td>\n",
       "      <td>...</td>\n",
       "      <td>...</td>\n",
       "      <td>...</td>\n",
       "      <td>...</td>\n",
       "      <td>...</td>\n",
       "      <td>...</td>\n",
       "      <td>...</td>\n",
       "      <td>...</td>\n",
       "      <td>...</td>\n",
       "      <td>...</td>\n",
       "      <td>...</td>\n",
       "      <td>...</td>\n",
       "      <td>...</td>\n",
       "      <td>...</td>\n",
       "    </tr>\n",
       "    <tr>\n",
       "      <th>12219</th>\n",
       "      <td>12219</td>\n",
       "      <td>13028</td>\n",
       "      <td>8948</td>\n",
       "      <td>467130971</td>\n",
       "      <td>negative</td>\n",
       "      <td>0</td>\n",
       "      <td>2025-04-04T08:02:37.362562</td>\n",
       "      <td>Краще \"повинна бути зручнішою, ніж Uber чи Boo...</td>\n",
       "      <td>2025-04-04</td>\n",
       "      <td>D</td>\n",
       "      <td>8948_0</td>\n",
       "      <td>uk</td>\n",
       "      <td>51</td>\n",
       "      <td>positive</td>\n",
       "      <td>Code-mixed</td>\n",
       "      <td>ukrainian</td>\n",
       "      <td>ua</td>\n",
       "      <td>negative_ua</td>\n",
       "      <td>train</td>\n",
       "    </tr>\n",
       "    <tr>\n",
       "      <th>12220</th>\n",
       "      <td>12220</td>\n",
       "      <td>13029</td>\n",
       "      <td>2094</td>\n",
       "      <td>467130971</td>\n",
       "      <td>mixed</td>\n",
       "      <td>0</td>\n",
       "      <td>2025-04-04T08:03:35.792932</td>\n",
       "      <td>Увага! З деяких інтернет джерел шириться інфор...</td>\n",
       "      <td>2025-04-04</td>\n",
       "      <td>D</td>\n",
       "      <td>2094_0</td>\n",
       "      <td>uk</td>\n",
       "      <td>402</td>\n",
       "      <td>positive</td>\n",
       "      <td>Ukrainian</td>\n",
       "      <td>ukrainian</td>\n",
       "      <td>ua</td>\n",
       "      <td>mixed_ua</td>\n",
       "      <td>train</td>\n",
       "    </tr>\n",
       "    <tr>\n",
       "      <th>12221</th>\n",
       "      <td>12221</td>\n",
       "      <td>13030</td>\n",
       "      <td>5013</td>\n",
       "      <td>467130971</td>\n",
       "      <td>neutral</td>\n",
       "      <td>0</td>\n",
       "      <td>2025-04-04T08:03:42.008533</td>\n",
       "      <td>Питання, цей сертифікат можна вже використовув...</td>\n",
       "      <td>2025-04-04</td>\n",
       "      <td>D</td>\n",
       "      <td>5013_0</td>\n",
       "      <td>uk</td>\n",
       "      <td>113</td>\n",
       "      <td>neutral</td>\n",
       "      <td>Ukrainian</td>\n",
       "      <td>ukrainian</td>\n",
       "      <td>ua</td>\n",
       "      <td>neutral_ua</td>\n",
       "      <td>train</td>\n",
       "    </tr>\n",
       "    <tr>\n",
       "      <th>12222</th>\n",
       "      <td>12222</td>\n",
       "      <td>13031</td>\n",
       "      <td>4572</td>\n",
       "      <td>467130971</td>\n",
       "      <td>negative</td>\n",
       "      <td>0</td>\n",
       "      <td>2025-04-04T08:03:48.251166</td>\n",
       "      <td>На Вугледарському напрямку загинув Рома Іванен...</td>\n",
       "      <td>2025-04-04</td>\n",
       "      <td>D</td>\n",
       "      <td>4572_0</td>\n",
       "      <td>uk</td>\n",
       "      <td>114</td>\n",
       "      <td>negative</td>\n",
       "      <td>Ukrainian</td>\n",
       "      <td>ukrainian</td>\n",
       "      <td>ua</td>\n",
       "      <td>negative_ua</td>\n",
       "      <td>train</td>\n",
       "    </tr>\n",
       "    <tr>\n",
       "      <th>12223</th>\n",
       "      <td>12223</td>\n",
       "      <td>13035</td>\n",
       "      <td>9934</td>\n",
       "      <td>277133851</td>\n",
       "      <td>negative</td>\n",
       "      <td>0</td>\n",
       "      <td>2025-04-05 21:07:45.024999</td>\n",
       "      <td>*_Управление «УКРАИНЫ» и «РФ» захвачено иудеям...</td>\n",
       "      <td>2025-04-05</td>\n",
       "      <td>O</td>\n",
       "      <td>9934_0</td>\n",
       "      <td>ru</td>\n",
       "      <td>5749</td>\n",
       "      <td>negative</td>\n",
       "      <td>Code-mixed</td>\n",
       "      <td>surzhyk</td>\n",
       "      <td>mixed</td>\n",
       "      <td>negative_mixed</td>\n",
       "      <td>train</td>\n",
       "    </tr>\n",
       "  </tbody>\n",
       "</table>\n",
       "<p>12224 rows × 19 columns</p>\n",
       "</div>"
      ],
      "text/plain": [
       "       index  response_id  document_id     user_id annotator_sentiment  \\\n",
       "0          0            1            1   277133851             neutral   \n",
       "1          1            3            2  1065283664             neutral   \n",
       "2          2            4            3  1065283664            negative   \n",
       "3          3            5            4  1065283664            negative   \n",
       "4          4            6            5  1065283664             neutral   \n",
       "...      ...          ...          ...         ...                 ...   \n",
       "12219  12219        13028         8948   467130971            negative   \n",
       "12220  12220        13029         2094   467130971               mixed   \n",
       "12221  12221        13030         5013   467130971             neutral   \n",
       "12222  12222        13031         4572   467130971            negative   \n",
       "12223  12223        13035         9934   277133851            negative   \n",
       "\n",
       "       is_ck_annotation          response_timestamp  \\\n",
       "0                     1  2025-03-09T23:23:07.220881   \n",
       "1                     1  2025-03-09T23:44:28.262307   \n",
       "2                     1  2025-03-09T23:45:00.503098   \n",
       "3                     1  2025-03-09T23:46:33.265766   \n",
       "4                     1  2025-03-09T23:46:38.993496   \n",
       "...                 ...                         ...   \n",
       "12219                 0  2025-04-04T08:02:37.362562   \n",
       "12220                 0  2025-04-04T08:03:35.792932   \n",
       "12221                 0  2025-04-04T08:03:42.008533   \n",
       "12222                 0  2025-04-04T08:03:48.251166   \n",
       "12223                 0  2025-04-05 21:07:45.024999   \n",
       "\n",
       "                                        document_content annotation_date  \\\n",
       "0      ⚡️Українська делегація відправилася на перемов...      2025-03-09   \n",
       "1                   Вибухи на Одещині, попередньо — ППО.      2025-03-09   \n",
       "2      А что делать тем ,кто лишился своего жилья ,по...      2025-03-09   \n",
       "3      Тогда учись быстро бегать. Для меня вопрос сло...      2025-03-09   \n",
       "4                                            Добрий день      2025-03-09   \n",
       "...                                                  ...             ...   \n",
       "12219  Краще \"повинна бути зручнішою, ніж Uber чи Boo...      2025-04-04   \n",
       "12220  Увага! З деяких інтернет джерел шириться інфор...      2025-04-04   \n",
       "12221  Питання, цей сертифікат можна вже використовув...      2025-04-04   \n",
       "12222  На Вугледарському напрямку загинув Рома Іванен...      2025-04-04   \n",
       "12223  *_Управление «УКРАИНЫ» и «РФ» захвачено иудеям...      2025-04-05   \n",
       "\n",
       "      username unique_document_id language_wc  document_length gpt_labels_v1  \\\n",
       "0            O                1_1          uk               67       neutral   \n",
       "1            A                2_1          uk               36      negative   \n",
       "2            A                3_1          ru              177      negative   \n",
       "3            A                4_1          ru              103      negative   \n",
       "4            A                5_1          uk               11       neutral   \n",
       "...        ...                ...         ...              ...           ...   \n",
       "12219        D             8948_0          uk               51      positive   \n",
       "12220        D             2094_0          uk              402      positive   \n",
       "12221        D             5013_0          uk              113       neutral   \n",
       "12222        D             4572_0          uk              114      negative   \n",
       "12223        O             9934_0          ru             5749      negative   \n",
       "\n",
       "      language_gpt language_manual language stratification_label      df_set  \n",
       "0        Ukrainian       ukrainian       ua           neutral_ua       train  \n",
       "1        Ukrainian       ukrainian       ua           neutral_ua  validation  \n",
       "2       Code-mixed         russian       ru          negative_ru        test  \n",
       "3       Code-mixed         russian       ru          negative_ru       train  \n",
       "4        Ukrainian         russian       ua           neutral_ua       train  \n",
       "...            ...             ...      ...                  ...         ...  \n",
       "12219   Code-mixed       ukrainian       ua          negative_ua       train  \n",
       "12220    Ukrainian       ukrainian       ua             mixed_ua       train  \n",
       "12221    Ukrainian       ukrainian       ua           neutral_ua       train  \n",
       "12222    Ukrainian       ukrainian       ua          negative_ua       train  \n",
       "12223   Code-mixed         surzhyk    mixed       negative_mixed       train  \n",
       "\n",
       "[12224 rows x 19 columns]"
      ]
     },
     "execution_count": 5,
     "metadata": {},
     "output_type": "execute_result"
    }
   ],
   "source": [
    "df"
   ]
  },
  {
   "cell_type": "code",
   "execution_count": null,
   "metadata": {},
   "outputs": [],
   "source": []
  },
  {
   "cell_type": "code",
   "execution_count": 6,
   "metadata": {
    "id": "Bu6Cu4b9-xy1"
   },
   "outputs": [],
   "source": [
    "splits_df = {}\n",
    "\n",
    "for sett in df.df_set.unique():\n",
    "    splits_df[sett] = df.loc[df['df_set'] == sett].copy()"
   ]
  },
  {
   "cell_type": "code",
   "execution_count": 7,
   "metadata": {
    "id": "vV_vaROgEXJx"
   },
   "outputs": [],
   "source": [
    "train_df = splits_df['train']\n",
    "val_df = splits_df['validation']\n",
    "test_df = splits_df['test']"
   ]
  },
  {
   "cell_type": "code",
   "execution_count": 8,
   "metadata": {
    "id": "c8HuHSCwEXHT"
   },
   "outputs": [],
   "source": [
    "# train_df = train_df.loc[:, ['document_content', 'annotator_sentiment']]"
   ]
  },
  {
   "cell_type": "code",
   "execution_count": null,
   "metadata": {},
   "outputs": [],
   "source": []
  },
  {
   "cell_type": "code",
   "execution_count": null,
   "metadata": {},
   "outputs": [],
   "source": []
  },
  {
   "cell_type": "markdown",
   "metadata": {
    "id": "hzIXNfzaE8v8"
   },
   "source": [
    "# Model - UkrRoberta"
   ]
  },
  {
   "cell_type": "code",
   "execution_count": 8,
   "metadata": {},
   "outputs": [],
   "source": [
    "num_labels=df.annotator_sentiment.nunique()"
   ]
  },
  {
   "cell_type": "code",
   "execution_count": 9,
   "metadata": {},
   "outputs": [
    {
     "data": {
      "text/plain": [
       "4"
      ]
     },
     "execution_count": 9,
     "metadata": {},
     "output_type": "execute_result"
    }
   ],
   "source": [
    "num_labels"
   ]
  },
  {
   "cell_type": "code",
   "execution_count": 10,
   "metadata": {},
   "outputs": [],
   "source": [
    "# Load model with increased dropout\n",
    "config = RobertaConfig.from_pretrained(\n",
    "    \"youscan/ukr-roberta-base\",\n",
    "    num_labels=num_labels,\n",
    "    hidden_dropout_prob=0.2,    # Increase from default (typically 0.1)\n",
    "    attention_probs_dropout_prob=0.2\n",
    ")"
   ]
  },
  {
   "cell_type": "code",
   "execution_count": 11,
   "metadata": {
    "colab": {
     "base_uri": "https://localhost:8080/"
    },
    "id": "HjuHjlCOs0E3",
    "outputId": "aca4b979-3a66-4d97-b007-8f369a341789"
   },
   "outputs": [
    {
     "name": "stderr",
     "output_type": "stream",
     "text": [
      "Some weights of RobertaForSequenceClassification were not initialized from the model checkpoint at youscan/ukr-roberta-base and are newly initialized: ['classifier.dense.bias', 'classifier.dense.weight', 'classifier.out_proj.bias', 'classifier.out_proj.weight']\n",
      "You should probably TRAIN this model on a down-stream task to be able to use it for predictions and inference.\n"
     ]
    }
   ],
   "source": [
    "model = RobertaForSequenceClassification.from_pretrained(\"youscan/ukr-roberta-base\", num_labels=num_labels)\n",
    "tokenizer = RobertaTokenizer.from_pretrained(\"youscan/ukr-roberta-base\")"
   ]
  },
  {
   "cell_type": "code",
   "execution_count": null,
   "metadata": {
    "id": "yrcwA2QX7q64"
   },
   "outputs": [],
   "source": []
  },
  {
   "cell_type": "code",
   "execution_count": null,
   "metadata": {},
   "outputs": [],
   "source": []
  },
  {
   "cell_type": "markdown",
   "metadata": {
    "id": "hzIXNfzaE8v8"
   },
   "source": [
    "# Model - mBERT"
   ]
  },
  {
   "cell_type": "code",
   "execution_count": 12,
   "metadata": {},
   "outputs": [],
   "source": [
    "num_labels=df.annotator_sentiment.nunique()"
   ]
  },
  {
   "cell_type": "code",
   "execution_count": 13,
   "metadata": {},
   "outputs": [
    {
     "data": {
      "text/plain": [
       "4"
      ]
     },
     "execution_count": 13,
     "metadata": {},
     "output_type": "execute_result"
    }
   ],
   "source": [
    "num_labels"
   ]
  },
  {
   "cell_type": "code",
   "execution_count": 14,
   "metadata": {},
   "outputs": [],
   "source": [
    "config = BertConfig.from_pretrained(\n",
    "    \"bert-base-multilingual-cased\",\n",
    "    num_labels=num_labels,\n",
    "    hidden_dropout_prob=0.2,    # Increase from default (typically 0.1)\n",
    "    attention_probs_dropout_prob=0.2\n",
    ")"
   ]
  },
  {
   "cell_type": "code",
   "execution_count": 15,
   "metadata": {
    "colab": {
     "base_uri": "https://localhost:8080/"
    },
    "id": "HjuHjlCOs0E3",
    "outputId": "aca4b979-3a66-4d97-b007-8f369a341789"
   },
   "outputs": [
    {
     "name": "stderr",
     "output_type": "stream",
     "text": [
      "Some weights of BertForSequenceClassification were not initialized from the model checkpoint at bert-base-multilingual-cased and are newly initialized: ['classifier.bias', 'classifier.weight']\n",
      "You should probably TRAIN this model on a down-stream task to be able to use it for predictions and inference.\n"
     ]
    }
   ],
   "source": [
    "model_bert = BertForSequenceClassification.from_pretrained(\"bert-base-multilingual-cased\", config=config)\n",
    "tokenizer_bert = BertTokenizer.from_pretrained(\"bert-base-multilingual-cased\")"
   ]
  },
  {
   "cell_type": "code",
   "execution_count": null,
   "metadata": {},
   "outputs": [],
   "source": []
  },
  {
   "cell_type": "code",
   "execution_count": null,
   "metadata": {},
   "outputs": [],
   "source": []
  },
  {
   "cell_type": "markdown",
   "metadata": {},
   "source": [
    "# Dataloaders"
   ]
  },
  {
   "cell_type": "code",
   "execution_count": 16,
   "metadata": {
    "id": "u82q6w5q0e6f"
   },
   "outputs": [],
   "source": [
    "MAX_LENGTH = 512"
   ]
  },
  {
   "cell_type": "code",
   "execution_count": 17,
   "metadata": {
    "id": "9EiZOZGa42Pr"
   },
   "outputs": [],
   "source": [
    "# Function to create data loaders\n",
    "def create_data_loaders(train_dataset, val_dataset, test_dataset, test_dataset_ru, test_dataset_ua, test_dataset_mixed, batch_size=16):\n",
    "    train_loader = DataLoader(\n",
    "        train_dataset,\n",
    "        batch_size=batch_size,\n",
    "        shuffle=True\n",
    "    )\n",
    "\n",
    "    val_loader = DataLoader(\n",
    "        val_dataset,\n",
    "        batch_size=batch_size,\n",
    "        shuffle=False\n",
    "    )\n",
    "\n",
    "    test_loader = DataLoader(\n",
    "        test_dataset,\n",
    "        batch_size=batch_size,\n",
    "        shuffle=False\n",
    "    )\n",
    "\n",
    "    test_loader_ru = DataLoader(\n",
    "        test_dataset_ru,\n",
    "        batch_size=batch_size,\n",
    "        shuffle=False\n",
    "    )\n",
    "\n",
    "    test_loader_ua = DataLoader(\n",
    "        test_dataset_ua,\n",
    "        batch_size=batch_size,\n",
    "        shuffle=False\n",
    "    )\n",
    "\n",
    "    test_loader_mixed = DataLoader(\n",
    "        test_dataset_mixed,\n",
    "        batch_size=batch_size,\n",
    "        shuffle=False\n",
    "    )\n",
    "    \n",
    "    return train_loader, val_loader, test_loader, test_loader_ru, test_loader_ua, test_loader_mixed"
   ]
  },
  {
   "cell_type": "code",
   "execution_count": 18,
   "metadata": {
    "id": "qxTCmex81qb7"
   },
   "outputs": [],
   "source": [
    "class SentimentDataset(Dataset):\n",
    "    def __init__(self, texts, df_ids, labels, tokenizer, max_length=512, strategy=\"truncate\"):\n",
    "        self.texts = texts\n",
    "        self.labels = labels\n",
    "        self.tokenizer = tokenizer\n",
    "        self.max_length = max_length\n",
    "        self.strategy = strategy\n",
    "        self.df_ids = df_ids\n",
    "\n",
    "    def __len__(self):\n",
    "        return len(self.texts)\n",
    "\n",
    "    def __getitem__(self, idx):\n",
    "        text = str(self.texts[idx])\n",
    "        label = self.labels[idx]\n",
    "        df_id = self.df_ids[idx]\n",
    "        \n",
    "\n",
    "        # Different strategies for handling long texts\n",
    "        if self.strategy == \"truncate\":\n",
    "            # Simple truncation from the beginning\n",
    "            encoding = self.tokenizer(\n",
    "                text,\n",
    "                truncation=True,\n",
    "                padding='max_length',\n",
    "                max_length=self.max_length,\n",
    "                return_tensors='pt'\n",
    "            )\n",
    "\n",
    "        elif self.strategy == \"head_tail\":\n",
    "            # Take first half tokens from beginning, second half from end\n",
    "            tokens = self.tokenizer.tokenize(text)\n",
    "            if len(tokens) > self.max_length - 2:  # Account for special tokens\n",
    "                half_length = (self.max_length - 2) // 2\n",
    "                tokens = tokens[:half_length] + tokens[-half_length:]\n",
    "\n",
    "            encoding = self.tokenizer.encode_plus(\n",
    "                self.tokenizer.convert_tokens_to_string(tokens),\n",
    "                truncation=True,\n",
    "                padding='max_length',\n",
    "                max_length=self.max_length,\n",
    "                return_tensors='pt'\n",
    "            )\n",
    "\n",
    "        return {\n",
    "            'input_ids': encoding['input_ids'].flatten(),\n",
    "            'attention_mask': encoding['attention_mask'].flatten(),\n",
    "            'labels': torch.tensor(label, dtype=torch.long),\n",
    "            'df_ids': torch.tensor(df_id, dtype=torch.int32),\n",
    "        }"
   ]
  },
  {
   "cell_type": "code",
   "execution_count": null,
   "metadata": {},
   "outputs": [],
   "source": []
  },
  {
   "cell_type": "code",
   "execution_count": 19,
   "metadata": {
    "id": "ynBX56tE58fy"
   },
   "outputs": [],
   "source": [
    "# Function to process dataset with chosen strategy\n",
    "def prepare_datasets(train_df, val_df, test_df, tokenizer, max_length=512, strategy=\"truncate\"):\n",
    "    # Encode the sentiment labels\n",
    "    label_encoder = LabelEncoder()\n",
    "\n",
    "    # Fit on the entire dataset to ensure all classes are included\n",
    "    all_sentiments = pd.concat([\n",
    "        train_df['annotator_sentiment'],\n",
    "        val_df['annotator_sentiment'],\n",
    "        test_df['annotator_sentiment']\n",
    "    ])\n",
    "    label_encoder.fit(all_sentiments)\n",
    "\n",
    "    # Transform the labels\n",
    "    train_labels = label_encoder.transform(train_df['annotator_sentiment'])\n",
    "    val_labels = label_encoder.transform(val_df['annotator_sentiment'])\n",
    "    test_labels = label_encoder.transform(test_df['annotator_sentiment'])\n",
    "    test_labels_ru = label_encoder.transform(test_df.loc[test_df.language=='ru', 'annotator_sentiment'])\n",
    "    test_labels_ua = label_encoder.transform(test_df.loc[test_df.language=='ua', 'annotator_sentiment'])\n",
    "    test_labels_mixed = label_encoder.transform(test_df.loc[test_df.language=='mixed', 'annotator_sentiment'])\n",
    "\n",
    "    # Create datasets\n",
    "    train_dataset = SentimentDataset(\n",
    "        train_df['document_content'].values,\n",
    "        train_df['index'].values,\n",
    "        train_labels,\n",
    "        tokenizer,\n",
    "        max_length,\n",
    "        strategy\n",
    "    )\n",
    "\n",
    "    val_dataset = SentimentDataset(\n",
    "        val_df['document_content'].values,\n",
    "        val_df['index'].values,\n",
    "        val_labels,\n",
    "        tokenizer,\n",
    "        max_length,\n",
    "        strategy\n",
    "    )\n",
    "\n",
    "    test_dataset = SentimentDataset(\n",
    "        test_df['document_content'].values,\n",
    "        test_df['index'].values,\n",
    "        test_labels,\n",
    "        tokenizer,\n",
    "        max_length,\n",
    "        strategy\n",
    "    )\n",
    "\n",
    "    test_dataset_ru = SentimentDataset(\n",
    "        test_df.loc[test_df.language=='ru', 'document_content'].values,\n",
    "        test_df.loc[test_df.language=='ru', 'index'].values,\n",
    "        test_labels_ru,\n",
    "        tokenizer,\n",
    "        max_length,\n",
    "        strategy\n",
    "    )\n",
    "\n",
    "    test_dataset_ua = SentimentDataset(\n",
    "        test_df.loc[test_df.language=='ua', 'document_content'].values,\n",
    "        test_df.loc[test_df.language=='ua', 'index'].values,\n",
    "        test_labels_ua,\n",
    "        tokenizer,\n",
    "        max_length,\n",
    "        strategy\n",
    "    )\n",
    "\n",
    "    test_dataset_mixed = SentimentDataset(\n",
    "        test_df.loc[test_df.language=='mixed', 'document_content'].values,\n",
    "        test_df.loc[test_df.language=='mixed', 'index'].values,\n",
    "        test_labels_mixed,\n",
    "        tokenizer,\n",
    "        max_length,\n",
    "        strategy\n",
    "    )\n",
    "    \n",
    "\n",
    "    return train_dataset, val_dataset, test_dataset, test_dataset_ru, test_dataset_ua, test_dataset_mixed, label_encoder"
   ]
  },
  {
   "cell_type": "code",
   "execution_count": 20,
   "metadata": {
    "id": "1fU0l-E_1qaE"
   },
   "outputs": [],
   "source": [
    "train_dataset, val_dataset, test_dataset, test_dataset_ru, test_dataset_ua, test_dataset_mixed, label_encoder = prepare_datasets(\n",
    "    train_df, val_df, test_df, tokenizer, MAX_LENGTH, strategy=\"truncate\" #head_tail\n",
    ")\n",
    "\n",
    "train_loader, val_loader, test_loader, test_loader_ru, test_loader_ua, test_loader_mixed = create_data_loaders(\n",
    "    train_dataset, val_dataset, test_dataset, test_dataset_ru, test_dataset_ua, test_dataset_mixed, batch_size=16\n",
    ")"
   ]
  },
  {
   "cell_type": "code",
   "execution_count": null,
   "metadata": {
    "id": "DbZcu21E1qXu"
   },
   "outputs": [],
   "source": []
  },
  {
   "cell_type": "code",
   "execution_count": 21,
   "metadata": {
    "id": "trxVesR36AK4"
   },
   "outputs": [],
   "source": [
    "def compute_metrics(pred):\n",
    "    labels = pred.label_ids\n",
    "    preds = pred.predictions.argmax(-1)\n",
    "\n",
    "    precision, recall, f1, _ = precision_recall_fscore_support(\n",
    "        labels, preds, average='weighted')\n",
    "    acc = accuracy_score(labels, preds)\n",
    "\n",
    "    return {\n",
    "        'accuracy': acc,\n",
    "        'f1': f1,\n",
    "        'precision': precision,\n",
    "        'recall': recall\n",
    "    }"
   ]
  },
  {
   "cell_type": "code",
   "execution_count": null,
   "metadata": {
    "id": "YN5VffMM6AFu"
   },
   "outputs": [],
   "source": []
  },
  {
   "cell_type": "code",
   "execution_count": null,
   "metadata": {
    "id": "OYLwHq4R6ADh"
   },
   "outputs": [],
   "source": []
  },
  {
   "cell_type": "markdown",
   "metadata": {},
   "source": [
    "# Read models state "
   ]
  },
  {
   "cell_type": "code",
   "execution_count": 22,
   "metadata": {},
   "outputs": [],
   "source": [
    "model_path = \"./best_models/ukrroberta_best.safetensors\""
   ]
  },
  {
   "cell_type": "code",
   "execution_count": 23,
   "metadata": {},
   "outputs": [],
   "source": [
    "state_dict = load_file(model_path)"
   ]
  },
  {
   "cell_type": "code",
   "execution_count": 24,
   "metadata": {},
   "outputs": [
    {
     "data": {
      "text/plain": [
       "<All keys matched successfully>"
      ]
     },
     "execution_count": 24,
     "metadata": {},
     "output_type": "execute_result"
    }
   ],
   "source": [
    "model.load_state_dict(state_dict)"
   ]
  },
  {
   "cell_type": "code",
   "execution_count": 25,
   "metadata": {},
   "outputs": [
    {
     "data": {
      "text/plain": [
       "RobertaForSequenceClassification(\n",
       "  (roberta): RobertaModel(\n",
       "    (embeddings): RobertaEmbeddings(\n",
       "      (word_embeddings): Embedding(52000, 768, padding_idx=1)\n",
       "      (position_embeddings): Embedding(514, 768, padding_idx=1)\n",
       "      (token_type_embeddings): Embedding(1, 768)\n",
       "      (LayerNorm): LayerNorm((768,), eps=1e-12, elementwise_affine=True)\n",
       "      (dropout): Dropout(p=0.1, inplace=False)\n",
       "    )\n",
       "    (encoder): RobertaEncoder(\n",
       "      (layer): ModuleList(\n",
       "        (0-11): 12 x RobertaLayer(\n",
       "          (attention): RobertaAttention(\n",
       "            (self): RobertaSdpaSelfAttention(\n",
       "              (query): Linear(in_features=768, out_features=768, bias=True)\n",
       "              (key): Linear(in_features=768, out_features=768, bias=True)\n",
       "              (value): Linear(in_features=768, out_features=768, bias=True)\n",
       "              (dropout): Dropout(p=0.1, inplace=False)\n",
       "            )\n",
       "            (output): RobertaSelfOutput(\n",
       "              (dense): Linear(in_features=768, out_features=768, bias=True)\n",
       "              (LayerNorm): LayerNorm((768,), eps=1e-12, elementwise_affine=True)\n",
       "              (dropout): Dropout(p=0.1, inplace=False)\n",
       "            )\n",
       "          )\n",
       "          (intermediate): RobertaIntermediate(\n",
       "            (dense): Linear(in_features=768, out_features=3072, bias=True)\n",
       "            (intermediate_act_fn): GELUActivation()\n",
       "          )\n",
       "          (output): RobertaOutput(\n",
       "            (dense): Linear(in_features=3072, out_features=768, bias=True)\n",
       "            (LayerNorm): LayerNorm((768,), eps=1e-12, elementwise_affine=True)\n",
       "            (dropout): Dropout(p=0.1, inplace=False)\n",
       "          )\n",
       "        )\n",
       "      )\n",
       "    )\n",
       "  )\n",
       "  (classifier): RobertaClassificationHead(\n",
       "    (dense): Linear(in_features=768, out_features=768, bias=True)\n",
       "    (dropout): Dropout(p=0.1, inplace=False)\n",
       "    (out_proj): Linear(in_features=768, out_features=4, bias=True)\n",
       "  )\n",
       ")"
      ]
     },
     "execution_count": 25,
     "metadata": {},
     "output_type": "execute_result"
    }
   ],
   "source": [
    "model.eval()"
   ]
  },
  {
   "cell_type": "code",
   "execution_count": null,
   "metadata": {},
   "outputs": [],
   "source": []
  },
  {
   "cell_type": "code",
   "execution_count": null,
   "metadata": {},
   "outputs": [],
   "source": []
  },
  {
   "cell_type": "code",
   "execution_count": 26,
   "metadata": {},
   "outputs": [],
   "source": [
    "model_path = \"./best_models/mbert_best.safetensors\""
   ]
  },
  {
   "cell_type": "code",
   "execution_count": 27,
   "metadata": {},
   "outputs": [],
   "source": [
    "state_dict = load_file(model_path)"
   ]
  },
  {
   "cell_type": "code",
   "execution_count": 28,
   "metadata": {},
   "outputs": [
    {
     "data": {
      "text/plain": [
       "<All keys matched successfully>"
      ]
     },
     "execution_count": 28,
     "metadata": {},
     "output_type": "execute_result"
    }
   ],
   "source": [
    "model_bert.load_state_dict(state_dict)"
   ]
  },
  {
   "cell_type": "code",
   "execution_count": 29,
   "metadata": {},
   "outputs": [
    {
     "data": {
      "text/plain": [
       "BertForSequenceClassification(\n",
       "  (bert): BertModel(\n",
       "    (embeddings): BertEmbeddings(\n",
       "      (word_embeddings): Embedding(119547, 768, padding_idx=0)\n",
       "      (position_embeddings): Embedding(512, 768)\n",
       "      (token_type_embeddings): Embedding(2, 768)\n",
       "      (LayerNorm): LayerNorm((768,), eps=1e-12, elementwise_affine=True)\n",
       "      (dropout): Dropout(p=0.2, inplace=False)\n",
       "    )\n",
       "    (encoder): BertEncoder(\n",
       "      (layer): ModuleList(\n",
       "        (0-11): 12 x BertLayer(\n",
       "          (attention): BertAttention(\n",
       "            (self): BertSdpaSelfAttention(\n",
       "              (query): Linear(in_features=768, out_features=768, bias=True)\n",
       "              (key): Linear(in_features=768, out_features=768, bias=True)\n",
       "              (value): Linear(in_features=768, out_features=768, bias=True)\n",
       "              (dropout): Dropout(p=0.2, inplace=False)\n",
       "            )\n",
       "            (output): BertSelfOutput(\n",
       "              (dense): Linear(in_features=768, out_features=768, bias=True)\n",
       "              (LayerNorm): LayerNorm((768,), eps=1e-12, elementwise_affine=True)\n",
       "              (dropout): Dropout(p=0.2, inplace=False)\n",
       "            )\n",
       "          )\n",
       "          (intermediate): BertIntermediate(\n",
       "            (dense): Linear(in_features=768, out_features=3072, bias=True)\n",
       "            (intermediate_act_fn): GELUActivation()\n",
       "          )\n",
       "          (output): BertOutput(\n",
       "            (dense): Linear(in_features=3072, out_features=768, bias=True)\n",
       "            (LayerNorm): LayerNorm((768,), eps=1e-12, elementwise_affine=True)\n",
       "            (dropout): Dropout(p=0.2, inplace=False)\n",
       "          )\n",
       "        )\n",
       "      )\n",
       "    )\n",
       "    (pooler): BertPooler(\n",
       "      (dense): Linear(in_features=768, out_features=768, bias=True)\n",
       "      (activation): Tanh()\n",
       "    )\n",
       "  )\n",
       "  (dropout): Dropout(p=0.2, inplace=False)\n",
       "  (classifier): Linear(in_features=768, out_features=4, bias=True)\n",
       ")"
      ]
     },
     "execution_count": 29,
     "metadata": {},
     "output_type": "execute_result"
    }
   ],
   "source": [
    "model_bert.eval()"
   ]
  },
  {
   "cell_type": "code",
   "execution_count": null,
   "metadata": {},
   "outputs": [],
   "source": []
  },
  {
   "cell_type": "code",
   "execution_count": null,
   "metadata": {},
   "outputs": [],
   "source": []
  },
  {
   "cell_type": "code",
   "execution_count": 31,
   "metadata": {},
   "outputs": [
    {
     "data": {
      "text/plain": [
       "{'LABEL_0': 'mixed',\n",
       " 'LABEL_1': 'negative',\n",
       " 'LABEL_2': 'neutral',\n",
       " 'LABEL_3': 'positive'}"
      ]
     },
     "execution_count": 31,
     "metadata": {},
     "output_type": "execute_result"
    }
   ],
   "source": [
    "{\n",
    "    'LABEL_0': 'mixed',\n",
    "    'LABEL_1': 'negative',\n",
    "    'LABEL_2': 'neutral',\n",
    "    'LABEL_3': 'positive',\n",
    "}"
   ]
  },
  {
   "cell_type": "code",
   "execution_count": null,
   "metadata": {},
   "outputs": [],
   "source": []
  },
  {
   "cell_type": "code",
   "execution_count": 30,
   "metadata": {},
   "outputs": [],
   "source": [
    "def predict_sentiment(text, model, tokenizer):\n",
    "    # Prepare the text input\n",
    "    inputs = tokenizer(text, return_tensors=\"pt\", padding='max_length', truncation=True, max_length=512)\n",
    "    \n",
    "    # Move inputs to the same device as the model\n",
    "    device = model.device\n",
    "    inputs = {k: v.to(device) for k, v in inputs.items()}\n",
    "    \n",
    "    # Perform inference\n",
    "    with torch.no_grad():\n",
    "        outputs = model(**inputs)\n",
    "        logits = outputs.logits\n",
    "        predictions = torch.argmax(logits, dim=1)\n",
    "    \n",
    "    # Map the prediction to sentiment labels\n",
    "    # Assuming the labels are: 0=negative, 1=neutral, 2=positive, 3=mixed (adjust as needed)\n",
    "    sentiment_labels = [\"mixed\", \"negative\", \"neutral\", \"positive\"]\n",
    "    predicted_sentiment = sentiment_labels[predictions.item()]\n",
    "    \n",
    "    return {\n",
    "        'prediction': predictions.item(),\n",
    "        'sentiment': predicted_sentiment,\n",
    "        'scores': torch.nn.functional.softmax(logits, dim=1).tolist()[0]\n",
    "    }"
   ]
  },
  {
   "cell_type": "code",
   "execution_count": 31,
   "metadata": {},
   "outputs": [],
   "source": [
    "def evaluate_model(model, dataloader, batch_size=16):\n",
    "    device = torch.device(\"cuda\" if torch.cuda.is_available() else \"cpu\")\n",
    "    model.to(device)\n",
    "    model.eval()\n",
    "    \n",
    "    all_preds = []\n",
    "    all_labels = []\n",
    "    all_indeces = []\n",
    "    all_probs = []\n",
    "    \n",
    "    with torch.no_grad():\n",
    "        for batch in dataloader:\n",
    "            input_ids = batch['input_ids'].to(device)\n",
    "            attention_mask = batch['attention_mask'].to(device)\n",
    "            labels = batch['labels'].to(device)\n",
    "            indeces = batch['df_ids'].to(device)\n",
    "            \n",
    "            outputs = model(input_ids=input_ids, attention_mask=attention_mask)\n",
    "            logits = outputs.logits\n",
    "            predictions = torch.argmax(logits, dim=1)\n",
    "            probs = torch.nn.functional.softmax(logits, dim=1).cpu().numpy()\n",
    "            \n",
    "            all_preds.extend(predictions.cpu().numpy())\n",
    "            all_labels.extend(labels.cpu().numpy())\n",
    "            all_indeces.extend(indeces.cpu().numpy())\n",
    "            all_probs.extend(probs)\n",
    "            \n",
    "    # Generate classification report\n",
    "    sentiment_labels = [\"mixed\", \"negative\", \"neutral\", \"positive\"]\n",
    "    report = classification_report(\n",
    "        all_labels, \n",
    "        all_preds, \n",
    "        target_names=sentiment_labels,\n",
    "        digits=4\n",
    "    )\n",
    "    \n",
    "    return report, all_labels, all_preds, all_indeces, all_probs"
   ]
  },
  {
   "cell_type": "code",
   "execution_count": null,
   "metadata": {},
   "outputs": [],
   "source": []
  },
  {
   "cell_type": "code",
   "execution_count": null,
   "metadata": {},
   "outputs": [],
   "source": []
  },
  {
   "cell_type": "markdown",
   "metadata": {
    "jp-MarkdownHeadingCollapsed": true
   },
   "source": [
    "# Examples"
   ]
  },
  {
   "cell_type": "code",
   "execution_count": 26,
   "metadata": {},
   "outputs": [],
   "source": [
    "sample_text = \"Це був чудовий день в Україні!\""
   ]
  },
  {
   "cell_type": "code",
   "execution_count": 27,
   "metadata": {},
   "outputs": [
    {
     "name": "stdout",
     "output_type": "stream",
     "text": [
      "Text: Це був чудовий день в Україні!\n",
      "Predicted sentiment: positive\n",
      "Confidence scores: [0.012194710783660412, 0.003013025736436248, 0.006361453328281641, 0.9784308075904846]\n"
     ]
    }
   ],
   "source": [
    "result = predict_sentiment(sample_text, model, tokenizer)\n",
    "print(f\"Text: {sample_text}\")\n",
    "print(f\"Predicted sentiment: {result['sentiment']}\")\n",
    "print(f\"Confidence scores: {result['scores']}\")"
   ]
  },
  {
   "cell_type": "code",
   "execution_count": null,
   "metadata": {},
   "outputs": [],
   "source": []
  },
  {
   "cell_type": "code",
   "execution_count": 28,
   "metadata": {},
   "outputs": [],
   "source": [
    "sample_text = \"Страви були чудові! Але курєр був дууууже повільним і спізнився на 10 хвилин\""
   ]
  },
  {
   "cell_type": "code",
   "execution_count": 29,
   "metadata": {},
   "outputs": [
    {
     "name": "stdout",
     "output_type": "stream",
     "text": [
      "Text: Страви були чудові! Але курєр був дууууже повільним і спізнився на 10 хвилин\n",
      "Predicted sentiment: positive\n",
      "Confidence scores: [0.2520087957382202, 0.03747483715415001, 0.014695629477500916, 0.6958208084106445]\n"
     ]
    }
   ],
   "source": [
    "result = predict_sentiment(sample_text, model, tokenizer)\n",
    "print(f\"Text: {sample_text}\")\n",
    "print(f\"Predicted sentiment: {result['sentiment']}\")\n",
    "print(f\"Confidence scores: {result['scores']}\")"
   ]
  },
  {
   "cell_type": "code",
   "execution_count": null,
   "metadata": {},
   "outputs": [],
   "source": []
  },
  {
   "cell_type": "code",
   "execution_count": 68,
   "metadata": {},
   "outputs": [],
   "source": [
    "sample_text = \"Страви були чудові! Але курєр був дууууже повільним і спізнився, був грубив і засмутив всю мою родину\""
   ]
  },
  {
   "cell_type": "code",
   "execution_count": 69,
   "metadata": {},
   "outputs": [
    {
     "name": "stdout",
     "output_type": "stream",
     "text": [
      "Text: Страви були чудові! Але курєр був дууууже повільним і спізнився, був грубив і засмутив всю мою родину\n",
      "Predicted sentiment: positive\n",
      "Confidence scores: [0.3225031793117523, 0.04648047313094139, 0.010628688149154186, 0.620387613773346]\n"
     ]
    }
   ],
   "source": [
    "result = predict_sentiment(sample_text, model, tokenizer)\n",
    "print(f\"Text: {sample_text}\")\n",
    "print(f\"Predicted sentiment: {result['sentiment']}\")\n",
    "print(f\"Confidence scores: {result['scores']}\")"
   ]
  },
  {
   "cell_type": "code",
   "execution_count": null,
   "metadata": {},
   "outputs": [],
   "source": []
  },
  {
   "cell_type": "code",
   "execution_count": 71,
   "metadata": {},
   "outputs": [],
   "source": [
    "sample_text = \"Страви були непогані. Попри це, курєр був дууууже повільним і спізнився, був грубив і засмутив всю мою родину\""
   ]
  },
  {
   "cell_type": "code",
   "execution_count": 72,
   "metadata": {},
   "outputs": [
    {
     "name": "stdout",
     "output_type": "stream",
     "text": [
      "Text: Страви були непогані. Попри це, курєр був дууууже повільним і спізнився, був грубив і засмутив всю мою родину\n",
      "Predicted sentiment: mixed\n",
      "Confidence scores: [0.571321964263916, 0.09259159117937088, 0.02021961472928524, 0.3158668875694275]\n"
     ]
    }
   ],
   "source": [
    "result = predict_sentiment(sample_text, model, tokenizer)\n",
    "print(f\"Text: {sample_text}\")\n",
    "print(f\"Predicted sentiment: {result['sentiment']}\")\n",
    "print(f\"Confidence scores: {result['scores']}\")"
   ]
  },
  {
   "cell_type": "code",
   "execution_count": null,
   "metadata": {},
   "outputs": [],
   "source": []
  },
  {
   "cell_type": "code",
   "execution_count": 30,
   "metadata": {},
   "outputs": [],
   "source": [
    "sample_text = \"Тріпі трапі тропі тропа\""
   ]
  },
  {
   "cell_type": "code",
   "execution_count": 31,
   "metadata": {},
   "outputs": [
    {
     "name": "stdout",
     "output_type": "stream",
     "text": [
      "Text: Тріпі трапі тропі тропа\n",
      "Predicted sentiment: negative\n",
      "Confidence scores: [0.014959062449634075, 0.8410854935646057, 0.10121103376150131, 0.042744483798742294]\n"
     ]
    }
   ],
   "source": [
    "result = predict_sentiment(sample_text, model, tokenizer)\n",
    "print(f\"Text: {sample_text}\")\n",
    "print(f\"Predicted sentiment: {result['sentiment']}\")\n",
    "print(f\"Confidence scores: {result['scores']}\")"
   ]
  },
  {
   "cell_type": "code",
   "execution_count": null,
   "metadata": {},
   "outputs": [],
   "source": []
  },
  {
   "cell_type": "code",
   "execution_count": 32,
   "metadata": {},
   "outputs": [],
   "source": [
    "sample_text = \"Если бы телец был собакой\""
   ]
  },
  {
   "cell_type": "code",
   "execution_count": 33,
   "metadata": {},
   "outputs": [
    {
     "name": "stdout",
     "output_type": "stream",
     "text": [
      "Text: Если бы телец был собакой\n",
      "Predicted sentiment: negative\n",
      "Confidence scores: [0.008417617529630661, 0.8469515442848206, 0.1364840269088745, 0.008146824315190315]\n"
     ]
    }
   ],
   "source": [
    "result = predict_sentiment(sample_text, model, tokenizer)\n",
    "print(f\"Text: {sample_text}\")\n",
    "print(f\"Predicted sentiment: {result['sentiment']}\")\n",
    "print(f\"Confidence scores: {result['scores']}\")"
   ]
  },
  {
   "cell_type": "code",
   "execution_count": null,
   "metadata": {},
   "outputs": [],
   "source": []
  },
  {
   "cell_type": "code",
   "execution_count": 34,
   "metadata": {},
   "outputs": [],
   "source": [
    "sample_text = \"Тільки не смій тягати її у школу\""
   ]
  },
  {
   "cell_type": "code",
   "execution_count": 35,
   "metadata": {},
   "outputs": [
    {
     "name": "stdout",
     "output_type": "stream",
     "text": [
      "Text: Тільки не смій тягати її у школу\n",
      "Predicted sentiment: negative\n",
      "Confidence scores: [0.01297629252076149, 0.7976250052452087, 0.16968148946762085, 0.019717281684279442]\n"
     ]
    }
   ],
   "source": [
    "result = predict_sentiment(sample_text, model, tokenizer)\n",
    "print(f\"Text: {sample_text}\")\n",
    "print(f\"Predicted sentiment: {result['sentiment']}\")\n",
    "print(f\"Confidence scores: {result['scores']}\")"
   ]
  },
  {
   "cell_type": "code",
   "execution_count": null,
   "metadata": {},
   "outputs": [],
   "source": []
  },
  {
   "cell_type": "code",
   "execution_count": 38,
   "metadata": {},
   "outputs": [],
   "source": [
    "sample_text = \"Тімбілдінг\""
   ]
  },
  {
   "cell_type": "code",
   "execution_count": 39,
   "metadata": {},
   "outputs": [
    {
     "name": "stdout",
     "output_type": "stream",
     "text": [
      "Text: Тімбілдінг\n",
      "Predicted sentiment: positive\n",
      "Confidence scores: [0.006929493043571711, 0.038127630949020386, 0.4544738829135895, 0.5004689693450928]\n"
     ]
    }
   ],
   "source": [
    "result = predict_sentiment(sample_text, model, tokenizer)\n",
    "print(f\"Text: {sample_text}\")\n",
    "print(f\"Predicted sentiment: {result['sentiment']}\")\n",
    "print(f\"Confidence scores: {result['scores']}\")"
   ]
  },
  {
   "cell_type": "code",
   "execution_count": null,
   "metadata": {},
   "outputs": [],
   "source": []
  },
  {
   "cell_type": "code",
   "execution_count": 40,
   "metadata": {},
   "outputs": [],
   "source": [
    "sample_text = \"Угода про корисні копалини не є частиною мирного врегулювання війни\""
   ]
  },
  {
   "cell_type": "code",
   "execution_count": 41,
   "metadata": {},
   "outputs": [
    {
     "name": "stdout",
     "output_type": "stream",
     "text": [
      "Text: Угода про корисні копалини не є частиною мирного врегулювання війни\n",
      "Predicted sentiment: neutral\n",
      "Confidence scores: [0.0059959073550999165, 0.05584683269262314, 0.878680944442749, 0.05947621911764145]\n"
     ]
    }
   ],
   "source": [
    "result = predict_sentiment(sample_text, model, tokenizer)\n",
    "print(f\"Text: {sample_text}\")\n",
    "print(f\"Predicted sentiment: {result['sentiment']}\")\n",
    "print(f\"Confidence scores: {result['scores']}\")"
   ]
  },
  {
   "cell_type": "code",
   "execution_count": null,
   "metadata": {},
   "outputs": [],
   "source": []
  },
  {
   "cell_type": "code",
   "execution_count": 42,
   "metadata": {},
   "outputs": [],
   "source": [
    "sample_text = \"Круте інтервʼю!\""
   ]
  },
  {
   "cell_type": "code",
   "execution_count": 43,
   "metadata": {},
   "outputs": [
    {
     "name": "stdout",
     "output_type": "stream",
     "text": [
      "Text: Круте інтервʼю!\n",
      "Predicted sentiment: positive\n",
      "Confidence scores: [0.009011629037559032, 0.007905189879238605, 0.12467630207538605, 0.8584069013595581]\n"
     ]
    }
   ],
   "source": [
    "result = predict_sentiment(sample_text, model, tokenizer)\n",
    "print(f\"Text: {sample_text}\")\n",
    "print(f\"Predicted sentiment: {result['sentiment']}\")\n",
    "print(f\"Confidence scores: {result['scores']}\")"
   ]
  },
  {
   "cell_type": "code",
   "execution_count": null,
   "metadata": {},
   "outputs": [],
   "source": []
  },
  {
   "cell_type": "code",
   "execution_count": 44,
   "metadata": {},
   "outputs": [],
   "source": [
    "sample_text = \"Я не вважаю Зеленського відповідальним за війну\""
   ]
  },
  {
   "cell_type": "code",
   "execution_count": 45,
   "metadata": {},
   "outputs": [
    {
     "name": "stdout",
     "output_type": "stream",
     "text": [
      "Text: Я не вважаю Зеленського відповідальним за війну\n",
      "Predicted sentiment: neutral\n",
      "Confidence scores: [0.02045055851340294, 0.1515345424413681, 0.5852959156036377, 0.24271893501281738]\n"
     ]
    }
   ],
   "source": [
    "result = predict_sentiment(sample_text, model, tokenizer)\n",
    "print(f\"Text: {sample_text}\")\n",
    "print(f\"Predicted sentiment: {result['sentiment']}\")\n",
    "print(f\"Confidence scores: {result['scores']}\")"
   ]
  },
  {
   "cell_type": "code",
   "execution_count": null,
   "metadata": {},
   "outputs": [],
   "source": []
  },
  {
   "cell_type": "code",
   "execution_count": 46,
   "metadata": {},
   "outputs": [],
   "source": [
    "sample_text = \"Я не считаю Зеленского ответственным за войну\""
   ]
  },
  {
   "cell_type": "code",
   "execution_count": 47,
   "metadata": {},
   "outputs": [
    {
     "name": "stdout",
     "output_type": "stream",
     "text": [
      "Text: Я не считаю Зеленского ответственным за войну\n",
      "Predicted sentiment: positive\n",
      "Confidence scores: [0.024840880185365677, 0.21594782173633575, 0.2569069266319275, 0.5023043751716614]\n"
     ]
    }
   ],
   "source": [
    "result = predict_sentiment(sample_text, model, tokenizer)\n",
    "print(f\"Text: {sample_text}\")\n",
    "print(f\"Predicted sentiment: {result['sentiment']}\")\n",
    "print(f\"Confidence scores: {result['scores']}\")"
   ]
  },
  {
   "cell_type": "code",
   "execution_count": null,
   "metadata": {},
   "outputs": [],
   "source": []
  },
  {
   "cell_type": "code",
   "execution_count": 48,
   "metadata": {},
   "outputs": [],
   "source": [
    "sample_text = \"Произошел обмен пленными. 277 защитников вернулись домой\""
   ]
  },
  {
   "cell_type": "code",
   "execution_count": 49,
   "metadata": {},
   "outputs": [
    {
     "name": "stdout",
     "output_type": "stream",
     "text": [
      "Text: Произошел обмен пленными. 277 защитников вернулись домой\n",
      "Predicted sentiment: negative\n",
      "Confidence scores: [0.02593432366847992, 0.5193845629692078, 0.40492716431617737, 0.04975389689207077]\n"
     ]
    }
   ],
   "source": [
    "result = predict_sentiment(sample_text, model, tokenizer)\n",
    "print(f\"Text: {sample_text}\")\n",
    "print(f\"Predicted sentiment: {result['sentiment']}\")\n",
    "print(f\"Confidence scores: {result['scores']}\")"
   ]
  },
  {
   "cell_type": "code",
   "execution_count": null,
   "metadata": {},
   "outputs": [],
   "source": []
  },
  {
   "cell_type": "code",
   "execution_count": 50,
   "metadata": {},
   "outputs": [],
   "source": [
    "sample_text = \"Путин объявил Пасхальное перемирье\""
   ]
  },
  {
   "cell_type": "code",
   "execution_count": 51,
   "metadata": {},
   "outputs": [
    {
     "name": "stdout",
     "output_type": "stream",
     "text": [
      "Text: Путин объявил Пасхальное перемирье\n",
      "Predicted sentiment: neutral\n",
      "Confidence scores: [0.007697454188019037, 0.08813631534576416, 0.7996045351028442, 0.10456173121929169]\n"
     ]
    }
   ],
   "source": [
    "result = predict_sentiment(sample_text, model, tokenizer)\n",
    "print(f\"Text: {sample_text}\")\n",
    "print(f\"Predicted sentiment: {result['sentiment']}\")\n",
    "print(f\"Confidence scores: {result['scores']}\")"
   ]
  },
  {
   "cell_type": "code",
   "execution_count": null,
   "metadata": {},
   "outputs": [],
   "source": []
  },
  {
   "cell_type": "code",
   "execution_count": 52,
   "metadata": {},
   "outputs": [],
   "source": [
    "sample_text = \"Ізраїль розглядає можливість удару по ядерних обʼєктах Ірану вже найближчими місяцями\""
   ]
  },
  {
   "cell_type": "code",
   "execution_count": 53,
   "metadata": {},
   "outputs": [
    {
     "name": "stdout",
     "output_type": "stream",
     "text": [
      "Text: Ізраїль розглядає можливість удару по ядерних обʼєктах Ірану вже найближчими місяцями\n",
      "Predicted sentiment: neutral\n",
      "Confidence scores: [0.0047546084970235825, 0.014997975900769234, 0.8821077942848206, 0.09813962131738663]\n"
     ]
    }
   ],
   "source": [
    "result = predict_sentiment(sample_text, model, tokenizer)\n",
    "print(f\"Text: {sample_text}\")\n",
    "print(f\"Predicted sentiment: {result['sentiment']}\")\n",
    "print(f\"Confidence scores: {result['scores']}\")"
   ]
  },
  {
   "cell_type": "code",
   "execution_count": null,
   "metadata": {},
   "outputs": [],
   "source": []
  },
  {
   "cell_type": "code",
   "execution_count": 54,
   "metadata": {},
   "outputs": [],
   "source": [
    "sample_text = \"Израль рассматривает возможность удара по ядерным объектам Ирана ближайшие месяцы\""
   ]
  },
  {
   "cell_type": "code",
   "execution_count": 55,
   "metadata": {},
   "outputs": [
    {
     "name": "stdout",
     "output_type": "stream",
     "text": [
      "Text: Израль рассматривает возможность удара по ядерным объектам Ирана ближайшие месяцы\n",
      "Predicted sentiment: neutral\n",
      "Confidence scores: [0.03239380568265915, 0.07955662906169891, 0.48086676001548767, 0.40718281269073486]\n"
     ]
    }
   ],
   "source": [
    "result = predict_sentiment(sample_text, model, tokenizer)\n",
    "print(f\"Text: {sample_text}\")\n",
    "print(f\"Predicted sentiment: {result['sentiment']}\")\n",
    "print(f\"Confidence scores: {result['scores']}\")"
   ]
  },
  {
   "cell_type": "code",
   "execution_count": null,
   "metadata": {},
   "outputs": [],
   "source": []
  },
  {
   "cell_type": "code",
   "execution_count": 56,
   "metadata": {},
   "outputs": [],
   "source": [
    "sample_text = \"Укрпошта продаватиме у відділеннях ковбасу\""
   ]
  },
  {
   "cell_type": "code",
   "execution_count": 57,
   "metadata": {},
   "outputs": [
    {
     "name": "stdout",
     "output_type": "stream",
     "text": [
      "Text: Укрпошта продаватиме у відділеннях ковбасу\n",
      "Predicted sentiment: neutral\n",
      "Confidence scores: [0.0030920105054974556, 0.04700794816017151, 0.8550490736961365, 0.09485100209712982]\n"
     ]
    }
   ],
   "source": [
    "result = predict_sentiment(sample_text, model, tokenizer)\n",
    "print(f\"Text: {sample_text}\")\n",
    "print(f\"Predicted sentiment: {result['sentiment']}\")\n",
    "print(f\"Confidence scores: {result['scores']}\")"
   ]
  },
  {
   "cell_type": "code",
   "execution_count": null,
   "metadata": {},
   "outputs": [],
   "source": []
  },
  {
   "cell_type": "code",
   "execution_count": 58,
   "metadata": {},
   "outputs": [],
   "source": [
    "sample_text = \"Укрпошта продаватиме у відділеннях ковбасу. Ахахахаха\""
   ]
  },
  {
   "cell_type": "code",
   "execution_count": 59,
   "metadata": {},
   "outputs": [
    {
     "name": "stdout",
     "output_type": "stream",
     "text": [
      "Text: Укрпошта продаватиме у відділеннях ковбасу. Ахахахаха\n",
      "Predicted sentiment: negative\n",
      "Confidence scores: [0.011275890283286572, 0.42599940299987793, 0.35408324003219604, 0.20864152908325195]\n"
     ]
    }
   ],
   "source": [
    "result = predict_sentiment(sample_text, model, tokenizer)\n",
    "print(f\"Text: {sample_text}\")\n",
    "print(f\"Predicted sentiment: {result['sentiment']}\")\n",
    "print(f\"Confidence scores: {result['scores']}\")"
   ]
  },
  {
   "cell_type": "code",
   "execution_count": null,
   "metadata": {},
   "outputs": [],
   "source": []
  },
  {
   "cell_type": "code",
   "execution_count": 60,
   "metadata": {},
   "outputs": [],
   "source": [
    "sample_text = \"В будущем будет ещё больше санкций против пропагандистов\""
   ]
  },
  {
   "cell_type": "code",
   "execution_count": 61,
   "metadata": {},
   "outputs": [
    {
     "name": "stdout",
     "output_type": "stream",
     "text": [
      "Text: В будущем будет ещё больше санкций против пропагандистов\n",
      "Predicted sentiment: neutral\n",
      "Confidence scores: [0.015859004110097885, 0.30410322546958923, 0.5666424632072449, 0.11339525878429413]\n"
     ]
    }
   ],
   "source": [
    "result = predict_sentiment(sample_text, model, tokenizer)\n",
    "print(f\"Text: {sample_text}\")\n",
    "print(f\"Predicted sentiment: {result['sentiment']}\")\n",
    "print(f\"Confidence scores: {result['scores']}\")"
   ]
  },
  {
   "cell_type": "code",
   "execution_count": null,
   "metadata": {},
   "outputs": [],
   "source": []
  },
  {
   "cell_type": "code",
   "execution_count": 62,
   "metadata": {},
   "outputs": [],
   "source": [
    "sample_text = \"Тыдыщ\""
   ]
  },
  {
   "cell_type": "code",
   "execution_count": 63,
   "metadata": {},
   "outputs": [
    {
     "name": "stdout",
     "output_type": "stream",
     "text": [
      "Text: Тыдыщ\n",
      "Predicted sentiment: negative\n",
      "Confidence scores: [0.00822005607187748, 0.500408411026001, 0.3743341863155365, 0.11703741550445557]\n"
     ]
    }
   ],
   "source": [
    "result = predict_sentiment(sample_text, model, tokenizer)\n",
    "print(f\"Text: {sample_text}\")\n",
    "print(f\"Predicted sentiment: {result['sentiment']}\")\n",
    "print(f\"Confidence scores: {result['scores']}\")"
   ]
  },
  {
   "cell_type": "code",
   "execution_count": null,
   "metadata": {},
   "outputs": [],
   "source": []
  },
  {
   "cell_type": "code",
   "execution_count": 64,
   "metadata": {},
   "outputs": [],
   "source": [
    "sample_text = \"Будет очень много хороших новостей на этой неделе\""
   ]
  },
  {
   "cell_type": "code",
   "execution_count": 65,
   "metadata": {},
   "outputs": [
    {
     "name": "stdout",
     "output_type": "stream",
     "text": [
      "Text: Будет очень много хороших новостей на этой неделе\n",
      "Predicted sentiment: positive\n",
      "Confidence scores: [0.016333885490894318, 0.02732902206480503, 0.14147044718265533, 0.8148666620254517]\n"
     ]
    }
   ],
   "source": [
    "result = predict_sentiment(sample_text, model, tokenizer)\n",
    "print(f\"Text: {sample_text}\")\n",
    "print(f\"Predicted sentiment: {result['sentiment']}\")\n",
    "print(f\"Confidence scores: {result['scores']}\")"
   ]
  },
  {
   "cell_type": "code",
   "execution_count": null,
   "metadata": {},
   "outputs": [],
   "source": []
  },
  {
   "cell_type": "code",
   "execution_count": 66,
   "metadata": {},
   "outputs": [],
   "source": [
    "sample_text = \"Моя бусинка\""
   ]
  },
  {
   "cell_type": "code",
   "execution_count": 67,
   "metadata": {},
   "outputs": [
    {
     "name": "stdout",
     "output_type": "stream",
     "text": [
      "Text: Моя бусинка\n",
      "Predicted sentiment: positive\n",
      "Confidence scores: [0.00936762522906065, 0.07461580634117126, 0.13196393847465515, 0.7840526103973389]\n"
     ]
    }
   ],
   "source": [
    "result = predict_sentiment(sample_text, model, tokenizer)\n",
    "print(f\"Text: {sample_text}\")\n",
    "print(f\"Predicted sentiment: {result['sentiment']}\")\n",
    "print(f\"Confidence scores: {result['scores']}\")"
   ]
  },
  {
   "cell_type": "code",
   "execution_count": null,
   "metadata": {},
   "outputs": [],
   "source": []
  },
  {
   "cell_type": "code",
   "execution_count": null,
   "metadata": {},
   "outputs": [],
   "source": []
  },
  {
   "cell_type": "markdown",
   "metadata": {
    "jp-MarkdownHeadingCollapsed": true
   },
   "source": [
    "# Errors analysis"
   ]
  },
  {
   "cell_type": "markdown",
   "metadata": {},
   "source": [
    "## UkrRoberta"
   ]
  },
  {
   "cell_type": "code",
   "execution_count": 49,
   "metadata": {},
   "outputs": [],
   "source": [
    "report, y_true_col, y_pred_col, all_indeces, all_probs = evaluate_model(model, test_loader, batch_size=16)"
   ]
  },
  {
   "cell_type": "code",
   "execution_count": null,
   "metadata": {},
   "outputs": [],
   "source": []
  },
  {
   "cell_type": "code",
   "execution_count": 36,
   "metadata": {},
   "outputs": [
    {
     "name": "stdout",
     "output_type": "stream",
     "text": [
      "              precision    recall  f1-score   support\n",
      "\n",
      "       mixed     0.2857    0.2333    0.2569        60\n",
      "    negative     0.7146    0.7429    0.7284       455\n",
      "     neutral     0.6425    0.7325    0.6845       471\n",
      "    positive     0.8110    0.5612    0.6633       237\n",
      "\n",
      "    accuracy                         0.6787      1223\n",
      "   macro avg     0.6134    0.5675    0.5833      1223\n",
      "weighted avg     0.6844    0.6787    0.6758      1223\n",
      "\n"
     ]
    }
   ],
   "source": [
    "print(report)"
   ]
  },
  {
   "cell_type": "code",
   "execution_count": 37,
   "metadata": {},
   "outputs": [],
   "source": [
    "df_clean = pd.DataFrame({'y_true_col': y_true_col,\n",
    "                         'y_pred_col': y_pred_col,\n",
    "                         'df_ids': all_indeces})"
   ]
  },
  {
   "cell_type": "code",
   "execution_count": 38,
   "metadata": {},
   "outputs": [],
   "source": [
    "df_clean = df_clean.merge(df, how='left', left_on='df_ids', right_on='index')"
   ]
  },
  {
   "cell_type": "code",
   "execution_count": 39,
   "metadata": {},
   "outputs": [
    {
     "data": {
      "text/plain": [
       "Index(['y_true_col', 'y_pred_col', 'df_ids', 'index', 'response_id',\n",
       "       'document_id', 'user_id', 'annotator_sentiment', 'is_ck_annotation',\n",
       "       'response_timestamp', 'document_content', 'annotation_date', 'username',\n",
       "       'unique_document_id', 'language_wc', 'document_length', 'gpt_labels_v1',\n",
       "       'language_gpt', 'language_manual', 'language', 'stratification_label',\n",
       "       'df_set'],\n",
       "      dtype='object')"
      ]
     },
     "execution_count": 39,
     "metadata": {},
     "output_type": "execute_result"
    }
   ],
   "source": [
    "df_clean.columns"
   ]
  },
  {
   "cell_type": "code",
   "execution_count": null,
   "metadata": {},
   "outputs": [],
   "source": []
  },
  {
   "cell_type": "code",
   "execution_count": null,
   "metadata": {},
   "outputs": [],
   "source": []
  },
  {
   "cell_type": "code",
   "execution_count": 40,
   "metadata": {},
   "outputs": [],
   "source": [
    "def evaluate_sentiment(df, y_true_col, y_pred_col, group_col=\"language\"):\n",
    "    \"\"\"\n",
    "    Evaluate sentiment classification with overall and per-language-group metrics.\n",
    "    \n",
    "    Params:\n",
    "    - df: pd.DataFrame containing predictions and true labels\n",
    "    - y_true_col: column name of true labels (e.g. human annotations)\n",
    "    - y_pred_col: column name of model predictions (e.g. DeepSeek output)\n",
    "    - group_col: column to group by (e.g. 'language')\n",
    "\n",
    "    Returns:\n",
    "    - dict with overall metrics and per-group metrics\n",
    "    \"\"\"\n",
    "    y_true = df[y_true_col]\n",
    "    y_pred = df[y_pred_col]\n",
    "\n",
    "    # Overall metrics\n",
    "    overall_macro = precision_recall_fscore_support(y_true, y_pred, average='macro', zero_division=0)\n",
    "    overall_micro = precision_recall_fscore_support(y_true, y_pred, average='micro', zero_division=0)\n",
    "\n",
    "    result = {\n",
    "        \"overall\": {\n",
    "            \"macro\": {\n",
    "                \"precision\": overall_macro[0],\n",
    "                \"recall\": overall_macro[1],\n",
    "                \"f1\": overall_macro[2],\n",
    "            },\n",
    "            \"micro\": {\n",
    "                \"precision\": overall_micro[0],\n",
    "                \"recall\": overall_micro[1],\n",
    "                \"f1\": overall_micro[2],\n",
    "            }\n",
    "        },\n",
    "        \"by_group\": {}\n",
    "    }\n",
    "\n",
    "    # Per-language group metrics\n",
    "    for group_value in df[group_col].unique():\n",
    "        subset = df[df[group_col] == group_value]\n",
    "        if subset.empty:\n",
    "            continue\n",
    "\n",
    "        group_true = subset[y_true_col]\n",
    "        group_pred = subset[y_pred_col]\n",
    "\n",
    "        macro = precision_recall_fscore_support(group_true, group_pred, average='macro', zero_division=0)\n",
    "        micro = precision_recall_fscore_support(group_true, group_pred, average='micro', zero_division=0)\n",
    "\n",
    "        result[\"by_group\"][group_value] = {\n",
    "            \"macro\": {\n",
    "                \"precision\": macro[0],\n",
    "                \"recall\": macro[1],\n",
    "                \"f1\": macro[2],\n",
    "            },\n",
    "            \"micro\": {\n",
    "                \"precision\": micro[0],\n",
    "                \"recall\": micro[1],\n",
    "                \"f1\": micro[2],\n",
    "            }\n",
    "        }\n",
    "\n",
    "    return result"
   ]
  },
  {
   "cell_type": "code",
   "execution_count": null,
   "metadata": {},
   "outputs": [],
   "source": []
  },
  {
   "cell_type": "code",
   "execution_count": null,
   "metadata": {},
   "outputs": [],
   "source": []
  },
  {
   "cell_type": "code",
   "execution_count": 41,
   "metadata": {},
   "outputs": [],
   "source": [
    "metrics = evaluate_sentiment(df_clean, y_true_col=\"y_true_col\", y_pred_col=\"y_pred_col\", group_col=\"language\")"
   ]
  },
  {
   "cell_type": "code",
   "execution_count": 42,
   "metadata": {},
   "outputs": [
    {
     "name": "stdout",
     "output_type": "stream",
     "text": [
      "{'by_group': {'mixed': {'macro': {'f1': 0.6791193181818183,\n",
      "                                  'precision': 0.7195830485304169,\n",
      "                                  'recall': 0.6909562211981566},\n",
      "                        'micro': {'f1': 0.7301587301587301,\n",
      "                                  'precision': 0.7301587301587301,\n",
      "                                  'recall': 0.7301587301587301}},\n",
      "              'ru': {'macro': {'f1': 0.5334811603113789,\n",
      "                               'precision': 0.5313248653075174,\n",
      "                               'recall': 0.5410927456382002},\n",
      "                     'micro': {'f1': 0.6442577030812325,\n",
      "                               'precision': 0.6442577030812325,\n",
      "                               'recall': 0.6442577030812325}},\n",
      "              'ua': {'macro': {'f1': 0.5868095575254993,\n",
      "                               'precision': 0.6403949514457586,\n",
      "                               'recall': 0.5678501636363344},\n",
      "                     'micro': {'f1': 0.6899128268991283,\n",
      "                               'precision': 0.6899128268991283,\n",
      "                               'recall': 0.6899128268991283}}},\n",
      " 'overall': {'macro': {'f1': 0.5832986163040299,\n",
      "                       'precision': 0.6134339334681486,\n",
      "                       'recall': 0.5674639968056884},\n",
      "             'micro': {'f1': 0.678659035159444,\n",
      "                       'precision': 0.678659035159444,\n",
      "                       'recall': 0.678659035159444}}}\n"
     ]
    }
   ],
   "source": [
    "pprint.pprint(metrics)"
   ]
  },
  {
   "cell_type": "code",
   "execution_count": null,
   "metadata": {},
   "outputs": [],
   "source": []
  },
  {
   "cell_type": "code",
   "execution_count": 43,
   "metadata": {},
   "outputs": [],
   "source": [
    "metrics_2 = evaluate_sentiment(df_clean, y_true_col=\"y_true_col\", y_pred_col=\"y_pred_col\", group_col=\"annotator_sentiment\")"
   ]
  },
  {
   "cell_type": "code",
   "execution_count": 44,
   "metadata": {},
   "outputs": [
    {
     "name": "stdout",
     "output_type": "stream",
     "text": [
      "{'by_group': {'mixed': {'macro': {'f1': 0.0945945945945946,\n",
      "                                  'precision': 0.25,\n",
      "                                  'recall': 0.058333333333333334},\n",
      "                        'micro': {'f1': 0.23333333333333334,\n",
      "                                  'precision': 0.23333333333333334,\n",
      "                                  'recall': 0.23333333333333334}},\n",
      "              'negative': {'macro': {'f1': 0.21311475409836064,\n",
      "                                     'precision': 0.25,\n",
      "                                     'recall': 0.18571428571428572},\n",
      "                           'micro': {'f1': 0.7428571428571429,\n",
      "                                     'precision': 0.7428571428571429,\n",
      "                                     'recall': 0.7428571428571429}},\n",
      "              'neutral': {'macro': {'f1': 0.2113970588235294,\n",
      "                                    'precision': 0.25,\n",
      "                                    'recall': 0.18312101910828024},\n",
      "                          'micro': {'f1': 0.732484076433121,\n",
      "                                    'precision': 0.732484076433121,\n",
      "                                    'recall': 0.732484076433121}},\n",
      "              'positive': {'macro': {'f1': 0.17972972972972973,\n",
      "                                     'precision': 0.25,\n",
      "                                     'recall': 0.14029535864978904},\n",
      "                           'micro': {'f1': 0.5611814345991561,\n",
      "                                     'precision': 0.5611814345991561,\n",
      "                                     'recall': 0.5611814345991561}}},\n",
      " 'overall': {'macro': {'f1': 0.5832986163040299,\n",
      "                       'precision': 0.6134339334681486,\n",
      "                       'recall': 0.5674639968056884},\n",
      "             'micro': {'f1': 0.678659035159444,\n",
      "                       'precision': 0.678659035159444,\n",
      "                       'recall': 0.678659035159444}}}\n"
     ]
    }
   ],
   "source": [
    "pprint.pprint(metrics_2)"
   ]
  },
  {
   "cell_type": "code",
   "execution_count": null,
   "metadata": {},
   "outputs": [],
   "source": []
  },
  {
   "cell_type": "code",
   "execution_count": null,
   "metadata": {},
   "outputs": [],
   "source": []
  },
  {
   "cell_type": "code",
   "execution_count": 45,
   "metadata": {},
   "outputs": [],
   "source": [
    "def visualize_confusion_matrix(df, true_col='annotator_sentiment', pred_col='models_sentiment', figsize=(10, 8), \n",
    "                             normalize=None, cmap='Blues', print_report=True):\n",
    "    \"\"\"\n",
    "    Create and visualize a confusion matrix from dataframe columns containing true and predicted labels.\n",
    "    \n",
    "    Parameters:\n",
    "    -----------\n",
    "    df : pandas DataFrame\n",
    "        The dataframe containing the true and predicted labels\n",
    "    true_col : str, default='y_true_col'\n",
    "        Column name containing the true labels\n",
    "    pred_col : str, default='y_pred_col'\n",
    "        Column name containing the predicted labels\n",
    "    figsize : tuple, default=(10, 8)\n",
    "        Figure size (width, height) in inches\n",
    "    normalize : {'true', 'pred', 'all', None}, default=None\n",
    "        Normalization method for confusion matrix:\n",
    "        - 'true': normalize over rows (true labels)\n",
    "        - 'pred': normalize over columns (predicted labels)\n",
    "        - 'all': normalize over entire matrix\n",
    "        - None: no normalization\n",
    "    cmap : str, default='Blues'\n",
    "        Colormap for the heatmap\n",
    "    print_report : bool, default=True\n",
    "        Whether to print the classification report\n",
    "        \n",
    "    Returns:\n",
    "    --------\n",
    "    fig : matplotlib Figure\n",
    "        The figure containing the confusion matrix\n",
    "    \"\"\"\n",
    "    # Extract true and predicted labels\n",
    "    y_true = df[true_col]\n",
    "    y_pred = df[pred_col]\n",
    "    \n",
    "    # Get unique labels (classes)\n",
    "    labels = sorted(list(set(np.concatenate([y_true.unique(), y_pred.unique()]))))\n",
    "    \n",
    "    # Create the confusion matrix\n",
    "    cm = confusion_matrix(y_true, y_pred, labels=labels)\n",
    "    \n",
    "    # Create a figure\n",
    "    fig, ax = plt.subplots(figsize=figsize)\n",
    "    \n",
    "    # Create the confusion matrix display\n",
    "    disp = ConfusionMatrixDisplay(confusion_matrix=cm, display_labels=labels)\n",
    "    \n",
    "    # Plot the confusion matrix\n",
    "    disp.plot(cmap=cmap, ax=ax, colorbar=True, values_format='.0f')\n",
    "    \n",
    "    # Set title based on normalization\n",
    "    norm_title = \"\"\n",
    "    if normalize == 'true':\n",
    "        norm_title = \" (Normalized by True Labels)\"\n",
    "    elif normalize == 'pred':\n",
    "        norm_title = \" (Normalized by Predicted Labels)\"\n",
    "    elif normalize == 'all':\n",
    "        norm_title = \" (Normalized by All Values)\"\n",
    "        \n",
    "    plt.title(f'Confusion Matrix{norm_title}', fontsize=16)\n",
    "    plt.xlabel('Predicted Labels', fontsize=14)\n",
    "    plt.ylabel('True Labels', fontsize=14)\n",
    "    plt.xticks(rotation=45, ha='right')\n",
    "    plt.tight_layout()\n",
    "    \n",
    "    # Print classification report if requested\n",
    "    if print_report:\n",
    "        report = classification_report(y_true, y_pred, labels=labels, zero_division=0)\n",
    "        print(\"Classification Report:\")\n",
    "        print(report)\n",
    "    \n",
    "    return fig"
   ]
  },
  {
   "cell_type": "code",
   "execution_count": 46,
   "metadata": {},
   "outputs": [],
   "source": [
    "df_clean['models_sentiment'] = df_clean['y_pred_col'].apply(lambda x: {0: 'mixed', 1: 'negative', 2: 'neutral', 3:'positive'}[x])"
   ]
  },
  {
   "cell_type": "code",
   "execution_count": 81,
   "metadata": {},
   "outputs": [
    {
     "name": "stdout",
     "output_type": "stream",
     "text": [
      "Classification Report:\n",
      "              precision    recall  f1-score   support\n",
      "\n",
      "       mixed       0.21      0.05      0.08        60\n",
      "    negative       0.81      0.61      0.70       455\n",
      "     neutral       0.64      0.83      0.72       471\n",
      "    positive       0.63      0.69      0.66       237\n",
      "\n",
      "    accuracy                           0.68      1223\n",
      "   macro avg       0.57      0.54      0.54      1223\n",
      "weighted avg       0.68      0.68      0.67      1223\n",
      "\n"
     ]
    },
    {
     "data": {
      "image/png": "[encoded data removed]",
      "text/plain": [
       "<Figure size 1000x800 with 2 Axes>"
      ]
     },
     "metadata": {},
     "output_type": "display_data"
    }
   ],
   "source": [
    "fig = visualize_confusion_matrix(df_clean)\n",
    "plt.show()"
   ]
  },
  {
   "cell_type": "code",
   "execution_count": null,
   "metadata": {},
   "outputs": [],
   "source": []
  },
  {
   "cell_type": "markdown",
   "metadata": {},
   "source": [
    "Добре працює у: \n",
    "\n",
    "- визначенні нейтрального класу\n",
    "\n",
    "- негатив часто плутаємо із нейтральним і позитивним іноді\n",
    "\n",
    "- цікаво розглянути випадки помилок, коли негативний сплутано із позитивним\n",
    "\n",
    "\n",
    "\n",
    "Гірше працюємо в: \n",
    "\n",
    "- позитивний у негативний дууууже рідко плутанина (подивись на випадки)\n",
    "\n",
    "- Міксованого класу дуже мало. Модель не вчиться його визначати і майже зайжди вважає його або позитивним, або негативним\n",
    "\n",
    "- Мікс клас виглядає як найбільша проблема, що логічно\n",
    "\n",
    "- Вилікуватись очікувано має за допомогою аугментацій))))"
   ]
  },
  {
   "cell_type": "code",
   "execution_count": 47,
   "metadata": {},
   "outputs": [
    {
     "name": "stdout",
     "output_type": "stream",
     "text": [
      "Classification Report:\n",
      "              precision    recall  f1-score   support\n",
      "\n",
      "       mixed       0.29      0.23      0.26        60\n",
      "    negative       0.71      0.74      0.73       455\n",
      "     neutral       0.64      0.73      0.68       471\n",
      "    positive       0.81      0.56      0.66       237\n",
      "\n",
      "    accuracy                           0.68      1223\n",
      "   macro avg       0.61      0.57      0.58      1223\n",
      "weighted avg       0.68      0.68      0.68      1223\n",
      "\n"
     ]
    },
    {
     "data": {
      "image/png": "[encoded data removed]",
      "text/plain": [
       "<Figure size 1000x800 with 2 Axes>"
      ]
     },
     "metadata": {},
     "output_type": "display_data"
    }
   ],
   "source": [
    "fig = visualize_confusion_matrix(df_clean)\n",
    "plt.show()"
   ]
  },
  {
   "cell_type": "code",
   "execution_count": 92,
   "metadata": {},
   "outputs": [
    {
     "data": {
      "text/plain": [
       "array(['ru', 'mixed', 'ua'], dtype=object)"
      ]
     },
     "execution_count": 92,
     "metadata": {},
     "output_type": "execute_result"
    }
   ],
   "source": [
    "df_clean.language.unique()"
   ]
  },
  {
   "cell_type": "code",
   "execution_count": 94,
   "metadata": {},
   "outputs": [
    {
     "name": "stdout",
     "output_type": "stream",
     "text": [
      "Classification Report:\n",
      "              precision    recall  f1-score   support\n",
      "\n",
      "       mixed       0.43      0.75      0.55         4\n",
      "    negative       0.82      0.87      0.84        31\n",
      "     neutral       0.63      0.57      0.60        21\n",
      "    positive       1.00      0.57      0.73         7\n",
      "\n",
      "    accuracy                           0.73        63\n",
      "   macro avg       0.72      0.69      0.68        63\n",
      "weighted avg       0.75      0.73      0.73        63\n",
      "\n"
     ]
    },
    {
     "data": {
      "image/png": "[encoded data removed]",
      "text/plain": [
       "<Figure size 1000x800 with 2 Axes>"
      ]
     },
     "metadata": {},
     "output_type": "display_data"
    }
   ],
   "source": [
    "fig = visualize_confusion_matrix(df_clean.loc[df_clean.language == 'mixed'])\n",
    "plt.show()"
   ]
  },
  {
   "cell_type": "code",
   "execution_count": null,
   "metadata": {},
   "outputs": [],
   "source": []
  },
  {
   "cell_type": "code",
   "execution_count": 93,
   "metadata": {},
   "outputs": [
    {
     "name": "stdout",
     "output_type": "stream",
     "text": [
      "Classification Report:\n",
      "              precision    recall  f1-score   support\n",
      "\n",
      "       mixed       0.16      0.25      0.19        12\n",
      "    negative       0.73      0.72      0.72       180\n",
      "     neutral       0.60      0.58      0.59       121\n",
      "    positive       0.64      0.61      0.63        44\n",
      "\n",
      "    accuracy                           0.64       357\n",
      "   macro avg       0.53      0.54      0.53       357\n",
      "weighted avg       0.65      0.64      0.65       357\n",
      "\n"
     ]
    },
    {
     "data": {
      "image/png": "[encoded data removed]",
      "text/plain": [
       "<Figure size 1000x800 with 2 Axes>"
      ]
     },
     "metadata": {},
     "output_type": "display_data"
    }
   ],
   "source": [
    "fig = visualize_confusion_matrix(df_clean.loc[df_clean.language == 'ru'])\n",
    "plt.show()"
   ]
  },
  {
   "cell_type": "code",
   "execution_count": null,
   "metadata": {},
   "outputs": [],
   "source": []
  },
  {
   "cell_type": "code",
   "execution_count": null,
   "metadata": {},
   "outputs": [],
   "source": []
  },
  {
   "cell_type": "code",
   "execution_count": 95,
   "metadata": {},
   "outputs": [
    {
     "name": "stdout",
     "output_type": "stream",
     "text": [
      "Classification Report:\n",
      "              precision    recall  f1-score   support\n",
      "\n",
      "       mixed       0.35      0.18      0.24        44\n",
      "    negative       0.69      0.74      0.72       244\n",
      "     neutral       0.66      0.80      0.72       329\n",
      "    positive       0.86      0.55      0.67       186\n",
      "\n",
      "    accuracy                           0.69       803\n",
      "   macro avg       0.64      0.57      0.59       803\n",
      "weighted avg       0.70      0.69      0.68       803\n",
      "\n"
     ]
    },
    {
     "data": {
      "image/png": "[encoded data removed]",
      "text/plain": [
       "<Figure size 1000x800 with 2 Axes>"
      ]
     },
     "metadata": {},
     "output_type": "display_data"
    }
   ],
   "source": [
    "fig = visualize_confusion_matrix(df_clean.loc[df_clean.language == 'ua'])\n",
    "plt.show()"
   ]
  },
  {
   "cell_type": "code",
   "execution_count": null,
   "metadata": {},
   "outputs": [],
   "source": []
  },
  {
   "cell_type": "code",
   "execution_count": null,
   "metadata": {},
   "outputs": [],
   "source": []
  },
  {
   "cell_type": "code",
   "execution_count": null,
   "metadata": {},
   "outputs": [],
   "source": []
  },
  {
   "cell_type": "code",
   "execution_count": null,
   "metadata": {},
   "outputs": [],
   "source": []
  },
  {
   "cell_type": "code",
   "execution_count": null,
   "metadata": {},
   "outputs": [],
   "source": []
  },
  {
   "cell_type": "markdown",
   "metadata": {},
   "source": [
    "## mBERT"
   ]
  },
  {
   "cell_type": "code",
   "execution_count": 81,
   "metadata": {},
   "outputs": [
    {
     "name": "stderr",
     "output_type": "stream",
     "text": [
      "/opt/conda/lib/python3.11/site-packages/sklearn/metrics/_classification.py:1565: UndefinedMetricWarning: Precision is ill-defined and being set to 0.0 in labels with no predicted samples. Use `zero_division` parameter to control this behavior.\n",
      "  _warn_prf(average, modifier, f\"{metric.capitalize()} is\", len(result))\n",
      "/opt/conda/lib/python3.11/site-packages/sklearn/metrics/_classification.py:1565: UndefinedMetricWarning: Precision is ill-defined and being set to 0.0 in labels with no predicted samples. Use `zero_division` parameter to control this behavior.\n",
      "  _warn_prf(average, modifier, f\"{metric.capitalize()} is\", len(result))\n",
      "/opt/conda/lib/python3.11/site-packages/sklearn/metrics/_classification.py:1565: UndefinedMetricWarning: Precision is ill-defined and being set to 0.0 in labels with no predicted samples. Use `zero_division` parameter to control this behavior.\n",
      "  _warn_prf(average, modifier, f\"{metric.capitalize()} is\", len(result))\n"
     ]
    }
   ],
   "source": [
    "report_bert, y_true_col_bert, y_pred_col_bert, all_indeces_bert, all_probs_bert = evaluate_model(model_bert, test_loader, batch_size=16)"
   ]
  },
  {
   "cell_type": "code",
   "execution_count": null,
   "metadata": {},
   "outputs": [],
   "source": []
  },
  {
   "cell_type": "code",
   "execution_count": 82,
   "metadata": {},
   "outputs": [
    {
     "name": "stdout",
     "output_type": "stream",
     "text": [
      "              precision    recall  f1-score   support\n",
      "\n",
      "       mixed     0.0000    0.0000    0.0000        60\n",
      "    negative     0.3772    0.8637    0.5251       455\n",
      "     neutral     0.4194    0.1104    0.1748       471\n",
      "    positive     0.3158    0.0759    0.1224       237\n",
      "\n",
      "    accuracy                         0.3786      1223\n",
      "   macro avg     0.2781    0.2625    0.2056      1223\n",
      "weighted avg     0.3630    0.3786    0.2864      1223\n",
      "\n"
     ]
    }
   ],
   "source": [
    "print(report_bert)"
   ]
  },
  {
   "cell_type": "code",
   "execution_count": 83,
   "metadata": {},
   "outputs": [],
   "source": [
    "df_clean_2 = pd.DataFrame({'y_true_col': y_true_col_bert,\n",
    "                         'y_pred_col': y_pred_col_bert,\n",
    "                         'df_ids': all_indeces_bert})"
   ]
  },
  {
   "cell_type": "code",
   "execution_count": 84,
   "metadata": {},
   "outputs": [],
   "source": [
    "df_clean_2 = df_clean_2.merge(df, how='left', left_on='df_ids', right_on='index')"
   ]
  },
  {
   "cell_type": "code",
   "execution_count": 85,
   "metadata": {},
   "outputs": [
    {
     "data": {
      "text/plain": [
       "Index(['y_true_col', 'y_pred_col', 'df_ids', 'index', 'response_id',\n",
       "       'document_id', 'user_id', 'annotator_sentiment', 'is_ck_annotation',\n",
       "       'response_timestamp', 'document_content', 'annotation_date', 'username',\n",
       "       'unique_document_id', 'language_wc', 'document_length', 'gpt_labels_v1',\n",
       "       'language_gpt', 'language_manual', 'language', 'stratification_label',\n",
       "       'df_set'],\n",
       "      dtype='object')"
      ]
     },
     "execution_count": 85,
     "metadata": {},
     "output_type": "execute_result"
    }
   ],
   "source": [
    "df_clean_2.columns"
   ]
  },
  {
   "cell_type": "code",
   "execution_count": null,
   "metadata": {},
   "outputs": [],
   "source": []
  },
  {
   "cell_type": "code",
   "execution_count": 86,
   "metadata": {},
   "outputs": [],
   "source": [
    "metrics_3 = evaluate_sentiment(df_clean_2, y_true_col=\"y_true_col\", y_pred_col=\"y_pred_col\", group_col=\"language\")"
   ]
  },
  {
   "cell_type": "code",
   "execution_count": 87,
   "metadata": {},
   "outputs": [
    {
     "name": "stdout",
     "output_type": "stream",
     "text": [
      "{'by_group': {'mixed': {'macro': {'f1': 0.16489361702127658,\n",
      "                                  'precision': 0.12301587301587301,\n",
      "                                  'recall': 0.25},\n",
      "                        'micro': {'f1': 0.49206349206349204,\n",
      "                                  'precision': 0.49206349206349204,\n",
      "                                  'recall': 0.49206349206349204}},\n",
      "              'ru': {'macro': {'f1': 0.2864109845354349,\n",
      "                               'precision': 0.3500528144423493,\n",
      "                               'recall': 0.3034779614325069},\n",
      "                     'micro': {'f1': 0.5182072829131653,\n",
      "                               'precision': 0.5182072829131653,\n",
      "                               'recall': 0.5182072829131653}},\n",
      "              'ua': {'macro': {'f1': 0.1731786249901334,\n",
      "                               'precision': 0.2433453745069167,\n",
      "                               'recall': 0.24726852975514044},\n",
      "                     'micro': {'f1': 0.30759651307596514,\n",
      "                               'precision': 0.30759651307596514,\n",
      "                               'recall': 0.30759651307596514}}},\n",
      " 'overall': {'macro': {'f1': 0.205572248939656,\n",
      "                       'precision': 0.27807590535375026,\n",
      "                       'recall': 0.26252225696311804},\n",
      "             'micro': {'f1': 0.3785772690106296,\n",
      "                       'precision': 0.3785772690106296,\n",
      "                       'recall': 0.3785772690106296}}}\n"
     ]
    }
   ],
   "source": [
    "pprint.pprint(metrics_3)"
   ]
  },
  {
   "cell_type": "code",
   "execution_count": null,
   "metadata": {},
   "outputs": [],
   "source": []
  },
  {
   "cell_type": "code",
   "execution_count": 89,
   "metadata": {},
   "outputs": [],
   "source": [
    "df_clean_2['models_sentiment'] = df_clean_2['y_pred_col'].apply(lambda x: {0: 'mixed', 1: 'negative', 2: 'neutral', 3:'positive'}[x])"
   ]
  },
  {
   "cell_type": "code",
   "execution_count": 90,
   "metadata": {},
   "outputs": [
    {
     "name": "stdout",
     "output_type": "stream",
     "text": [
      "Classification Report:\n",
      "              precision    recall  f1-score   support\n",
      "\n",
      "       mixed       0.00      0.00      0.00        60\n",
      "    negative       0.38      0.86      0.53       455\n",
      "     neutral       0.42      0.11      0.17       471\n",
      "    positive       0.32      0.08      0.12       237\n",
      "\n",
      "    accuracy                           0.38      1223\n",
      "   macro avg       0.28      0.26      0.21      1223\n",
      "weighted avg       0.36      0.38      0.29      1223\n",
      "\n"
     ]
    },
    {
     "data": {
      "image/png": "[encoded data removed]",
      "text/plain": [
       "<Figure size 1000x800 with 2 Axes>"
      ]
     },
     "metadata": {},
     "output_type": "display_data"
    }
   ],
   "source": [
    "fig = visualize_confusion_matrix(df_clean_2)\n",
    "plt.show()"
   ]
  },
  {
   "cell_type": "code",
   "execution_count": null,
   "metadata": {},
   "outputs": [],
   "source": []
  },
  {
   "cell_type": "code",
   "execution_count": null,
   "metadata": {},
   "outputs": [],
   "source": []
  },
  {
   "cell_type": "code",
   "execution_count": 100,
   "metadata": {},
   "outputs": [
    {
     "name": "stdout",
     "output_type": "stream",
     "text": [
      "Classification Report:\n",
      "              precision    recall  f1-score   support\n",
      "\n",
      "       mixed       0.00      0.00      0.00         4\n",
      "    negative       0.49      1.00      0.66        31\n",
      "     neutral       0.00      0.00      0.00        21\n",
      "    positive       0.00      0.00      0.00         7\n",
      "\n",
      "    accuracy                           0.49        63\n",
      "   macro avg       0.12      0.25      0.16        63\n",
      "weighted avg       0.24      0.49      0.32        63\n",
      "\n"
     ]
    },
    {
     "data": {
      "image/png": "[encoded data removed]",
      "text/plain": [
       "<Figure size 1000x800 with 2 Axes>"
      ]
     },
     "metadata": {},
     "output_type": "display_data"
    }
   ],
   "source": [
    "fig = visualize_confusion_matrix(df_clean_2.loc[df_clean_2.language == 'mixed'])\n",
    "plt.show()"
   ]
  },
  {
   "cell_type": "code",
   "execution_count": null,
   "metadata": {},
   "outputs": [],
   "source": []
  },
  {
   "cell_type": "code",
   "execution_count": 99,
   "metadata": {},
   "outputs": [
    {
     "name": "stdout",
     "output_type": "stream",
     "text": [
      "Classification Report:\n",
      "              precision    recall  f1-score   support\n",
      "\n",
      "       mixed       0.00      0.00      0.00        12\n",
      "    negative       0.54      0.88      0.67       180\n",
      "     neutral       0.42      0.15      0.22       121\n",
      "    positive       0.44      0.18      0.26        44\n",
      "\n",
      "    accuracy                           0.52       357\n",
      "   macro avg       0.35      0.30      0.29       357\n",
      "weighted avg       0.47      0.52      0.44       357\n",
      "\n"
     ]
    },
    {
     "data": {
      "image/png": "[encoded data removed]",
      "text/plain": [
       "<Figure size 1000x800 with 2 Axes>"
      ]
     },
     "metadata": {},
     "output_type": "display_data"
    }
   ],
   "source": [
    "fig = visualize_confusion_matrix(df_clean_2.loc[df_clean_2.language == 'ru'])\n",
    "plt.show()"
   ]
  },
  {
   "cell_type": "code",
   "execution_count": null,
   "metadata": {},
   "outputs": [],
   "source": []
  },
  {
   "cell_type": "code",
   "execution_count": 98,
   "metadata": {},
   "outputs": [
    {
     "name": "stdout",
     "output_type": "stream",
     "text": [
      "Classification Report:\n",
      "              precision    recall  f1-score   support\n",
      "\n",
      "       mixed       0.00      0.00      0.00        44\n",
      "    negative       0.30      0.83      0.44       244\n",
      "     neutral       0.42      0.10      0.17       329\n",
      "    positive       0.26      0.05      0.09       186\n",
      "\n",
      "    accuracy                           0.31       803\n",
      "   macro avg       0.24      0.25      0.17       803\n",
      "weighted avg       0.32      0.31      0.22       803\n",
      "\n"
     ]
    },
    {
     "data": {
      "image/png": "[encoded data removed]",
      "text/plain": [
       "<Figure size 1000x800 with 2 Axes>"
      ]
     },
     "metadata": {},
     "output_type": "display_data"
    }
   ],
   "source": [
    "fig = visualize_confusion_matrix(df_clean_2.loc[df_clean_2.language == 'ua'])\n",
    "plt.show()"
   ]
  },
  {
   "cell_type": "code",
   "execution_count": null,
   "metadata": {},
   "outputs": [],
   "source": []
  },
  {
   "cell_type": "code",
   "execution_count": null,
   "metadata": {},
   "outputs": [],
   "source": []
  },
  {
   "cell_type": "code",
   "execution_count": null,
   "metadata": {},
   "outputs": [],
   "source": []
  },
  {
   "cell_type": "code",
   "execution_count": null,
   "metadata": {},
   "outputs": [],
   "source": []
  },
  {
   "cell_type": "code",
   "execution_count": null,
   "metadata": {},
   "outputs": [],
   "source": []
  },
  {
   "cell_type": "markdown",
   "metadata": {},
   "source": [
    "# Expected calibration error"
   ]
  },
  {
   "cell_type": "code",
   "execution_count": 32,
   "metadata": {},
   "outputs": [],
   "source": [
    "def _reliability_curve(labels, probs, model_name: str, ece: float, n_bins: int, ax, min_x: float = 0.4):\n",
    "    \"\"\"\n",
    "    Add one reliability curve to an existing matplotlib Axes.\n",
    "    Treats the max‑probability (top‑1) prediction as the model’s confidence.\n",
    "    \"\"\"\n",
    "    labels = np.asarray(labels)\n",
    "    probs = np.asarray(probs)\n",
    "\n",
    "    # Top‑1 confidence and correctness (1 = hit, 0 = miss)\n",
    "    conf = probs.max(axis=1)\n",
    "    correct = (probs.argmax(axis=1) == labels).astype(int)\n",
    "\n",
    "    frac_pos, mean_pred = calibration_curve(\n",
    "        correct, conf, n_bins=n_bins, strategy=\"uniform\"\n",
    "    )\n",
    "    \n",
    "    # ------- keep only bins to the right of min_x -------\n",
    "    keep = mean_pred >= min_x\n",
    "    frac_pos  = frac_pos[keep]\n",
    "    mean_pred = mean_pred[keep]\n",
    "    # ----------------------------------------------------\n",
    "\n",
    "    model_name=f\"{model_name} (ECE={ece:.3f})\"\n",
    "    \n",
    "    ax.plot([0, 1], [0, 1], linestyle=\"--\", color=\"gray\", linewidth=1)\n",
    "    ax.plot(mean_pred, frac_pos, marker=\"o\", label=model_name)\n",
    "    return ax\n",
    "\n",
    "\n",
    "def plot_calibration_diagrams(\n",
    "    labels_roberta,\n",
    "    probs_roberta,\n",
    "    labels_mbert,\n",
    "    probs_mbert,\n",
    "    ece_roberta, \n",
    "    ece_bert,\n",
    "    n_bins: int = 10,\n",
    "    figsize=(6, 6),\n",
    "):\n",
    "    \"\"\"\n",
    "    Draw a side‑by‑side reliability diagram for UkrRoberta and mBERT.\n",
    "    \"\"\"\n",
    "    fig, ax = plt.subplots(figsize=figsize)\n",
    "\n",
    "    _reliability_curve(labels_roberta, probs_roberta, \"UkrRoberta\", ece_roberta, n_bins, ax)\n",
    "    _reliability_curve(labels_mbert, probs_mbert, \"mBERT\", ece_bert, n_bins, ax)\n",
    "\n",
    "    # ax.set_title(\"Reliability diagram (top‑1 confidence)\")\n",
    "    ax.set_xlabel(\"Predicted confidence\")\n",
    "    ax.set_ylabel(\"Empirical accuracy\")\n",
    "    ax.legend()\n",
    "    plt.tight_layout()\n",
    "    plt.savefig('reliability_diagram.png')\n",
    "    plt.show()"
   ]
  },
  {
   "cell_type": "code",
   "execution_count": 33,
   "metadata": {},
   "outputs": [
    {
     "name": "stderr",
     "output_type": "stream",
     "text": [
      "/opt/conda/lib/python3.11/site-packages/sklearn/metrics/_classification.py:1565: UndefinedMetricWarning: Precision is ill-defined and being set to 0.0 in labels with no predicted samples. Use `zero_division` parameter to control this behavior.\n",
      "  _warn_prf(average, modifier, f\"{metric.capitalize()} is\", len(result))\n",
      "/opt/conda/lib/python3.11/site-packages/sklearn/metrics/_classification.py:1565: UndefinedMetricWarning: Precision is ill-defined and being set to 0.0 in labels with no predicted samples. Use `zero_division` parameter to control this behavior.\n",
      "  _warn_prf(average, modifier, f\"{metric.capitalize()} is\", len(result))\n",
      "/opt/conda/lib/python3.11/site-packages/sklearn/metrics/_classification.py:1565: UndefinedMetricWarning: Precision is ill-defined and being set to 0.0 in labels with no predicted samples. Use `zero_division` parameter to control this behavior.\n",
      "  _warn_prf(average, modifier, f\"{metric.capitalize()} is\", len(result))\n"
     ]
    }
   ],
   "source": [
    "rep_r, y_true_r, _, _, probs_r = evaluate_model(model, test_loader)\n",
    "rep_b, y_true_b, _, _, probs_b = evaluate_model(model_bert, test_loader)"
   ]
  },
  {
   "cell_type": "code",
   "execution_count": null,
   "metadata": {},
   "outputs": [],
   "source": []
  },
  {
   "cell_type": "code",
   "execution_count": 34,
   "metadata": {},
   "outputs": [
    {
     "data": {
      "image/png": "[encoded data removed]",
      "text/plain": [
       "<Figure size 600x600 with 1 Axes>"
      ]
     },
     "metadata": {},
     "output_type": "display_data"
    }
   ],
   "source": [
    "plot_calibration_diagrams(\n",
    "    labels_roberta=y_true_r,\n",
    "    probs_roberta=probs_r,\n",
    "    labels_mbert=y_true_b,\n",
    "    probs_mbert=probs_b,\n",
    "    ece_roberta=0.1655,\n",
    "    ece_bert=0.3243,\n",
    "    n_bins=15,            # feel free to change\n",
    ")"
   ]
  },
  {
   "cell_type": "code",
   "execution_count": null,
   "metadata": {},
   "outputs": [],
   "source": []
  },
  {
   "cell_type": "code",
   "execution_count": null,
   "metadata": {},
   "outputs": [],
   "source": []
  },
  {
   "cell_type": "markdown",
   "metadata": {},
   "source": [
    "### By languages"
   ]
  },
  {
   "cell_type": "markdown",
   "metadata": {},
   "source": [
    "### Overall"
   ]
  },
  {
   "cell_type": "code",
   "execution_count": 35,
   "metadata": {},
   "outputs": [
    {
     "name": "stderr",
     "output_type": "stream",
     "text": [
      "/opt/conda/lib/python3.11/site-packages/sklearn/metrics/_classification.py:1565: UndefinedMetricWarning: Precision is ill-defined and being set to 0.0 in labels with no predicted samples. Use `zero_division` parameter to control this behavior.\n",
      "  _warn_prf(average, modifier, f\"{metric.capitalize()} is\", len(result))\n",
      "/opt/conda/lib/python3.11/site-packages/sklearn/metrics/_classification.py:1565: UndefinedMetricWarning: Precision is ill-defined and being set to 0.0 in labels with no predicted samples. Use `zero_division` parameter to control this behavior.\n",
      "  _warn_prf(average, modifier, f\"{metric.capitalize()} is\", len(result))\n",
      "/opt/conda/lib/python3.11/site-packages/sklearn/metrics/_classification.py:1565: UndefinedMetricWarning: Precision is ill-defined and being set to 0.0 in labels with no predicted samples. Use `zero_division` parameter to control this behavior.\n",
      "  _warn_prf(average, modifier, f\"{metric.capitalize()} is\", len(result))\n"
     ]
    }
   ],
   "source": [
    "rep_r, y_true_r, _, _, probs_r = evaluate_model(model, test_loader)\n",
    "rep_b, y_true_b, _, _, probs_b = evaluate_model(model_bert, test_loader)"
   ]
  },
  {
   "cell_type": "code",
   "execution_count": 44,
   "metadata": {},
   "outputs": [],
   "source": [
    "# ──────────────────────────────────────────────────────────────────────────────\n",
    "def _reliability_bars(\n",
    "        labels,\n",
    "        probs,\n",
    "        model_name: str,\n",
    "        ece: float,\n",
    "        n_bins: int,\n",
    "        ax,\n",
    "        bar_offset: float = 0.0,\n",
    "        min_x: float = 0.4,\n",
    "):\n",
    "    \"\"\"\n",
    "    Plot one model’s reliability curve as bars.\n",
    "    \"\"\"\n",
    "    labels = np.asarray(labels)\n",
    "    probs  = np.asarray(probs)\n",
    "\n",
    "    # top‑1 confidence and correctness (1 = hit, 0 = miss)\n",
    "    conf    = probs.max(axis=1)\n",
    "    correct = (probs.argmax(axis=1) == labels).astype(int)\n",
    "\n",
    "    frac_pos, mean_pred = calibration_curve(\n",
    "        correct, conf, n_bins=n_bins, strategy=\"uniform\"\n",
    "    )\n",
    "\n",
    "    keep      = mean_pred >= min_x\n",
    "    frac_pos  = frac_pos[keep]\n",
    "    mean_pred = mean_pred[keep]\n",
    "\n",
    "    bar_width = 1 / n_bins * 0.6                     # 60 % of bin width\n",
    "    x = mean_pred + bar_offset                       # nudge bars left / right\n",
    "\n",
    "    label = f\"{model_name} (ECE={ece:.2f})\"\n",
    "    ax.bar(x, frac_pos, width=bar_width, label=label, alpha=0.7, edgecolor=\"black\")\n",
    "\n",
    "\n",
    "# ──────────────────────────────────────────────────────────────────────────────\n",
    "def plot_calibration_diagrams(\n",
    "        labels_roberta,\n",
    "        probs_roberta,\n",
    "        labels_mbert,\n",
    "        probs_mbert,\n",
    "        ece_roberta,\n",
    "        ece_bert,\n",
    "        png_path,\n",
    "        n_bins: int = 10,\n",
    "        figsize=(5, 4),\n",
    "):\n",
    "    \"\"\"\n",
    "    Side‑by‑side reliability diagram for UkrRoberta and mBERT.\n",
    "    \"\"\"\n",
    "    fig, ax = plt.subplots(figsize=figsize)\n",
    "\n",
    "    # Ideal calibration reference\n",
    "    ax.plot([0, 1], [0, 1], linestyle=\"--\",\n",
    "            color=\"gray\", linewidth=1, label=\"Calibration line\")\n",
    "\n",
    "    # Offsets so the two bar groups don’t overlap\n",
    "    offset = 0.5 / n_bins * 0.6\n",
    "    _reliability_bars(labels_roberta, probs_roberta, \"UkrRoberta\",\n",
    "                      ece_roberta, n_bins, ax, bar_offset=-offset, min_x=0.5)\n",
    "    _reliability_bars(labels_mbert,   probs_mbert,   \"mBERT\",\n",
    "                      ece_bert,       n_bins, ax, bar_offset=+offset, min_x=0.5)\n",
    "\n",
    "    ax.set_xlabel(\"Predicted confidence\", fontsize=10)\n",
    "    ax.set_ylabel(\"Empirical accuracy\", fontsize=10)\n",
    "    ax.tick_params(labelsize=10)\n",
    "\n",
    "    ax.set_xlim(0.5, 1) \n",
    "    ax.set_ylim(0, 1)\n",
    "    legend = ax.legend(fontsize=10) \n",
    "    plt.tight_layout()\n",
    "    plt.savefig(png_path)\n",
    "    plt.show()\n",
    "\n",
    "\n",
    "    "
   ]
  },
  {
   "cell_type": "code",
   "execution_count": null,
   "metadata": {},
   "outputs": [],
   "source": []
  },
  {
   "cell_type": "code",
   "execution_count": 46,
   "metadata": {},
   "outputs": [
    {
     "data": {
      "image/png": "[encoded data removed]",
      "text/plain": [
       "<Figure size 500x400 with 1 Axes>"
      ]
     },
     "metadata": {},
     "output_type": "display_data"
    }
   ],
   "source": [
    "plot_calibration_diagrams(\n",
    "    labels_roberta=y_true_r,\n",
    "    probs_roberta=probs_r,\n",
    "    labels_mbert=y_true_b,\n",
    "    probs_mbert=probs_b,\n",
    "    ece_roberta=0.17,\n",
    "    ece_bert=0.32,\n",
    "    png_path='overall_calibration_plot.png',\n",
    "    n_bins=15,            # feel free to change\n",
    ")"
   ]
  },
  {
   "cell_type": "markdown",
   "metadata": {},
   "source": [
    "ece_roberta=0.1655,\n",
    "\n",
    "ece_bert=0.3243,"
   ]
  },
  {
   "cell_type": "code",
   "execution_count": null,
   "metadata": {},
   "outputs": [],
   "source": []
  },
  {
   "cell_type": "code",
   "execution_count": null,
   "metadata": {},
   "outputs": [],
   "source": []
  },
  {
   "cell_type": "markdown",
   "metadata": {},
   "source": [
    "### RU"
   ]
  },
  {
   "cell_type": "code",
   "execution_count": 47,
   "metadata": {},
   "outputs": [
    {
     "name": "stderr",
     "output_type": "stream",
     "text": [
      "/opt/conda/lib/python3.11/site-packages/sklearn/metrics/_classification.py:1565: UndefinedMetricWarning: Precision is ill-defined and being set to 0.0 in labels with no predicted samples. Use `zero_division` parameter to control this behavior.\n",
      "  _warn_prf(average, modifier, f\"{metric.capitalize()} is\", len(result))\n",
      "/opt/conda/lib/python3.11/site-packages/sklearn/metrics/_classification.py:1565: UndefinedMetricWarning: Precision is ill-defined and being set to 0.0 in labels with no predicted samples. Use `zero_division` parameter to control this behavior.\n",
      "  _warn_prf(average, modifier, f\"{metric.capitalize()} is\", len(result))\n",
      "/opt/conda/lib/python3.11/site-packages/sklearn/metrics/_classification.py:1565: UndefinedMetricWarning: Precision is ill-defined and being set to 0.0 in labels with no predicted samples. Use `zero_division` parameter to control this behavior.\n",
      "  _warn_prf(average, modifier, f\"{metric.capitalize()} is\", len(result))\n"
     ]
    }
   ],
   "source": [
    "rep_r, y_true_r, _, _, probs_r = evaluate_model(model, test_loader_ru)\n",
    "rep_b, y_true_b, _, _, probs_b = evaluate_model(model_bert, test_loader_ru)"
   ]
  },
  {
   "cell_type": "code",
   "execution_count": 48,
   "metadata": {},
   "outputs": [
    {
     "data": {
      "image/png": "[encoded data removed]",
      "text/plain": [
       "<Figure size 500x400 with 1 Axes>"
      ]
     },
     "metadata": {},
     "output_type": "display_data"
    }
   ],
   "source": [
    "plot_calibration_diagrams(\n",
    "    labels_roberta=y_true_r,\n",
    "    probs_roberta=probs_r,\n",
    "    labels_mbert=y_true_b,\n",
    "    probs_mbert=probs_b,\n",
    "    ece_roberta=0.18,\n",
    "    ece_bert=0.17,\n",
    "    png_path='ru_calibration_plot.png',\n",
    "    n_bins=15,            # feel free to change\n",
    ")"
   ]
  },
  {
   "cell_type": "markdown",
   "metadata": {},
   "source": [
    "UkrRoberta ECE: 0.1790812539787186\n",
    "\n",
    "mBERT ECE: 0.16651570763574594"
   ]
  },
  {
   "cell_type": "code",
   "execution_count": null,
   "metadata": {},
   "outputs": [],
   "source": []
  },
  {
   "cell_type": "code",
   "execution_count": null,
   "metadata": {},
   "outputs": [],
   "source": []
  },
  {
   "cell_type": "markdown",
   "metadata": {},
   "source": [
    "### UA"
   ]
  },
  {
   "cell_type": "code",
   "execution_count": 49,
   "metadata": {},
   "outputs": [
    {
     "name": "stderr",
     "output_type": "stream",
     "text": [
      "/opt/conda/lib/python3.11/site-packages/sklearn/metrics/_classification.py:1565: UndefinedMetricWarning: Precision is ill-defined and being set to 0.0 in labels with no predicted samples. Use `zero_division` parameter to control this behavior.\n",
      "  _warn_prf(average, modifier, f\"{metric.capitalize()} is\", len(result))\n",
      "/opt/conda/lib/python3.11/site-packages/sklearn/metrics/_classification.py:1565: UndefinedMetricWarning: Precision is ill-defined and being set to 0.0 in labels with no predicted samples. Use `zero_division` parameter to control this behavior.\n",
      "  _warn_prf(average, modifier, f\"{metric.capitalize()} is\", len(result))\n",
      "/opt/conda/lib/python3.11/site-packages/sklearn/metrics/_classification.py:1565: UndefinedMetricWarning: Precision is ill-defined and being set to 0.0 in labels with no predicted samples. Use `zero_division` parameter to control this behavior.\n",
      "  _warn_prf(average, modifier, f\"{metric.capitalize()} is\", len(result))\n"
     ]
    }
   ],
   "source": [
    "rep_r, y_true_r, _, _, probs_r = evaluate_model(model, test_loader_ua)\n",
    "rep_b, y_true_b, _, _, probs_b = evaluate_model(model_bert, test_loader_ua)"
   ]
  },
  {
   "cell_type": "code",
   "execution_count": 50,
   "metadata": {},
   "outputs": [
    {
     "data": {
      "image/png": "[encoded data removed]",
      "text/plain": [
       "<Figure size 500x400 with 1 Axes>"
      ]
     },
     "metadata": {},
     "output_type": "display_data"
    }
   ],
   "source": [
    "plot_calibration_diagrams(\n",
    "    labels_roberta=y_true_r,\n",
    "    probs_roberta=probs_r,\n",
    "    labels_mbert=y_true_b,\n",
    "    probs_mbert=probs_b,\n",
    "    ece_roberta=0.16,\n",
    "    ece_bert=0.40,\n",
    "    png_path='ua_calibration_plot.png',\n",
    "    n_bins=15,            # feel free to change\n",
    ")"
   ]
  },
  {
   "cell_type": "markdown",
   "metadata": {},
   "source": [
    "UkrRoberta ECE: 0.16264413543982642\n",
    "\n",
    "mBERT ECE: 0.3995962035685666"
   ]
  },
  {
   "cell_type": "code",
   "execution_count": null,
   "metadata": {},
   "outputs": [],
   "source": []
  },
  {
   "cell_type": "code",
   "execution_count": null,
   "metadata": {},
   "outputs": [],
   "source": []
  },
  {
   "cell_type": "code",
   "execution_count": null,
   "metadata": {},
   "outputs": [],
   "source": []
  },
  {
   "cell_type": "markdown",
   "metadata": {},
   "source": [
    "### MIXED"
   ]
  },
  {
   "cell_type": "code",
   "execution_count": 51,
   "metadata": {},
   "outputs": [
    {
     "name": "stderr",
     "output_type": "stream",
     "text": [
      "/opt/conda/lib/python3.11/site-packages/sklearn/metrics/_classification.py:1565: UndefinedMetricWarning: Precision is ill-defined and being set to 0.0 in labels with no predicted samples. Use `zero_division` parameter to control this behavior.\n",
      "  _warn_prf(average, modifier, f\"{metric.capitalize()} is\", len(result))\n",
      "/opt/conda/lib/python3.11/site-packages/sklearn/metrics/_classification.py:1565: UndefinedMetricWarning: Precision is ill-defined and being set to 0.0 in labels with no predicted samples. Use `zero_division` parameter to control this behavior.\n",
      "  _warn_prf(average, modifier, f\"{metric.capitalize()} is\", len(result))\n",
      "/opt/conda/lib/python3.11/site-packages/sklearn/metrics/_classification.py:1565: UndefinedMetricWarning: Precision is ill-defined and being set to 0.0 in labels with no predicted samples. Use `zero_division` parameter to control this behavior.\n",
      "  _warn_prf(average, modifier, f\"{metric.capitalize()} is\", len(result))\n"
     ]
    }
   ],
   "source": [
    "rep_r, y_true_r, _, _, probs_r = evaluate_model(model, test_loader_mixed)\n",
    "rep_b, y_true_b, _, _, probs_b = evaluate_model(model_bert, test_loader_mixed)"
   ]
  },
  {
   "cell_type": "code",
   "execution_count": 52,
   "metadata": {},
   "outputs": [
    {
     "data": {
      "image/png": "[encoded data removed]",
      "text/plain": [
       "<Figure size 500x400 with 1 Axes>"
      ]
     },
     "metadata": {},
     "output_type": "display_data"
    }
   ],
   "source": [
    "plot_calibration_diagrams(\n",
    "    labels_roberta=y_true_r,\n",
    "    probs_roberta=probs_r,\n",
    "    labels_mbert=y_true_b,\n",
    "    probs_mbert=probs_b,\n",
    "    ece_roberta=0.13,\n",
    "    ece_bert=0.35,\n",
    "    png_path='mixed_calibration_plot.png',\n",
    "    n_bins=15,            # feel free to change\n",
    ")"
   ]
  },
  {
   "cell_type": "markdown",
   "metadata": {},
   "source": [
    "UkrRoberta ECE: 0.12604201076522709\n",
    "\n",
    "mBERT ECE: 0.35396601472582134"
   ]
  },
  {
   "cell_type": "code",
   "execution_count": null,
   "metadata": {},
   "outputs": [],
   "source": []
  },
  {
   "cell_type": "code",
   "execution_count": null,
   "metadata": {},
   "outputs": [],
   "source": []
  },
  {
   "cell_type": "code",
   "execution_count": null,
   "metadata": {},
   "outputs": [],
   "source": []
  },
  {
   "cell_type": "code",
   "execution_count": null,
   "metadata": {},
   "outputs": [],
   "source": []
  },
  {
   "cell_type": "code",
   "execution_count": null,
   "metadata": {},
   "outputs": [],
   "source": []
  },
  {
   "cell_type": "code",
   "execution_count": null,
   "metadata": {},
   "outputs": [],
   "source": []
  },
  {
   "cell_type": "code",
   "execution_count": null,
   "metadata": {},
   "outputs": [],
   "source": []
  },
  {
   "cell_type": "code",
   "execution_count": null,
   "metadata": {},
   "outputs": [],
   "source": [
    "def _reliability_bars(labels, probs, model_name, ece, n_bins, ax,\n",
    "                      bar_width   = 0.08,          # overlaps a bit so colours mix nicely\n",
    "                      min_x       = 0.0):          # we never drop bins here – we slice later\n",
    "    labels = np.asarray(labels)\n",
    "    probs  = np.asarray(probs)\n",
    "\n",
    "    conf    = probs.max(axis=1)\n",
    "    correct = (probs.argmax(axis=1) == labels).astype(int)\n",
    "\n",
    "    frac_pos, mean_pred = calibration_curve(\n",
    "        correct, conf, n_bins=n_bins, strategy=\"uniform\"\n",
    "    )\n",
    "\n",
    "    # draw perfect‑calibration diagonal *once* per axis and capture handle\n",
    "    calib_line, = ax.plot([0, 1], [0, 1],\n",
    "                          linestyle=\"--\", linewidth=1, color=\"gray\",\n",
    "                          label=\"Calibration line\")\n",
    "\n",
    "    # bar plot – shift the centres a hair so bars for both models are visible\n",
    "    offset = (-1 if \"Ukr\" in model_name else 1) * bar_width / 2\n",
    "    bars = ax.bar(mean_pred+offset,\n",
    "                  frac_pos,\n",
    "                  width=bar_width,\n",
    "                  alpha=.75,\n",
    "                  label=f\"{model_name} (ECE={ece:.3f})\")\n",
    "\n",
    "    return calib_line, bars\n",
    "\n",
    "\n",
    "\n",
    "def plot_calibration_panels(\n",
    "        labels_roberta, probs_roberta,            # arrays\n",
    "        labels_mbert,   probs_mbert,              # arrays\n",
    "        languages_all,                            # same length, values in {'ua','ru','mixed'}\n",
    "        ece_roberta, ece_mbert,\n",
    "        n_bins      = 10,\n",
    "        figsize     = (12, 12)\n",
    "):\n",
    "    \"\"\"\n",
    "    Draws four side‑by‑side reliability diagrams:\n",
    "\n",
    "        (1) All data\n",
    "        (2) Ukrainian‑only\n",
    "        (3) Russian‑only\n",
    "        (4) Code‑switched (mixed)\n",
    "    \"\"\"\n",
    "    # assure NumPy arrays for easy boolean masking\n",
    "    languages_all = np.asarray(languages_all)\n",
    "\n",
    "    # figure‑level set‑up\n",
    "    fig, axes = plt.subplots(2, 2, figsize=figsize, sharex=True, sharey=True)\n",
    "    axes      = axes.ravel()      # flat iterator makes looping simpler\n",
    "\n",
    "    # panel descriptors – (title, mask)\n",
    "    panels = [\n",
    "        (\"All languages\",        np.ones_like(languages_all, dtype=bool)),\n",
    "        (\"Ukrainian (ua)\",       languages_all == \"ua\"),\n",
    "        (\"Russian (ru)\",         languages_all == \"ru\"),\n",
    "        (\"Code‑switched (mixed)\",languages_all == \"mixed\"),\n",
    "    ]\n",
    "\n",
    "    # draw every panel\n",
    "    for ax, (title, mask) in zip(axes, panels):\n",
    "        _reliability_bars(labels_roberta[mask], probs_roberta[mask],\n",
    "                          \"UkrRoberta\", ece_roberta, n_bins, ax)\n",
    "        calib_line, _ = _reliability_bars(labels_mbert[mask], probs_mbert[mask],\n",
    "                                          \"mBERT\",       ece_mbert,   n_bins, ax)\n",
    "\n",
    "        ax.set_title(title)\n",
    "        ax.set_xlabel(\"Predicted confidence\")\n",
    "        ax.set_ylabel(\"Empirical accuracy\")\n",
    "        ax.set_xlim(0, 1)\n",
    "        ax.set_ylim(0, 1)\n",
    "\n",
    "        # Only the first axis gets the legend (others share it automatically)\n",
    "        ax.legend(loc=\"lower right\")\n",
    "\n",
    "    fig.suptitle(\"Reliability Diagrams – Overall and by Language\", fontsize=15)\n",
    "    plt.tight_layout(rect=[0, 0.03, 1, 0.97])\n",
    "    plt.savefig(\"reliability_panels.png\")\n",
    "    plt.show()"
   ]
  },
  {
   "cell_type": "code",
   "execution_count": null,
   "metadata": {},
   "outputs": [],
   "source": []
  },
  {
   "cell_type": "code",
   "execution_count": null,
   "metadata": {},
   "outputs": [],
   "source": [
    "plot_calibration_diagrams(\n",
    "    labels_roberta=y_true_r,\n",
    "    probs_roberta=probs_r,\n",
    "    labels_mbert=y_true_b,\n",
    "    probs_mbert=probs_b,\n",
    "    ece_roberta=0.1655,\n",
    "    ece_bert=0.3243,\n",
    "    n_bins=15,            # feel free to change\n",
    ")"
   ]
  },
  {
   "cell_type": "code",
   "execution_count": null,
   "metadata": {},
   "outputs": [],
   "source": []
  },
  {
   "cell_type": "code",
   "execution_count": null,
   "metadata": {},
   "outputs": [],
   "source": []
  },
  {
   "cell_type": "code",
   "execution_count": null,
   "metadata": {},
   "outputs": [],
   "source": []
  },
  {
   "cell_type": "code",
   "execution_count": null,
   "metadata": {},
   "outputs": [],
   "source": []
  },
  {
   "cell_type": "code",
   "execution_count": null,
   "metadata": {},
   "outputs": [],
   "source": []
  },
  {
   "cell_type": "code",
   "execution_count": 52,
   "metadata": {},
   "outputs": [],
   "source": [
    "def plot_single_reliability_diagram(probs, labels, n_bins=10):\n",
    "    \"\"\"\n",
    "    Plot reliability diagram to visualize calibration.\n",
    "    \n",
    "    Args:\n",
    "        probs: Predicted probabilities of shape [n_samples, n_classes]\n",
    "        labels: Ground truth labels of shape [n_samples]\n",
    "        n_bins: Number of bins for confidence scores\n",
    "    \"\"\"\n",
    "    confidences = np.max(probs, axis=1)\n",
    "    predictions = np.argmax(probs, axis=1)\n",
    "    accuracies = (predictions == labels)\n",
    "    \n",
    "    bin_boundaries = np.linspace(0, 1, n_bins + 1)\n",
    "    bin_indices = np.digitize(confidences, bin_boundaries, right=True) - 1\n",
    "    bin_indices = np.clip(bin_indices, 0, n_bins - 1)\n",
    "    \n",
    "    bin_accuracies = np.zeros(n_bins)\n",
    "    bin_confidences = np.zeros(n_bins)\n",
    "    bin_counts = np.zeros(n_bins)\n",
    "    \n",
    "    for i in range(len(confidences)):\n",
    "        bin_idx = bin_indices[i]\n",
    "        bin_accuracies[bin_idx] += accuracies[i]\n",
    "        bin_confidences[bin_idx] += confidences[i]\n",
    "        bin_counts[bin_idx] += 1\n",
    "    \n",
    "    for i in range(n_bins):\n",
    "        if bin_counts[i] > 0:\n",
    "            bin_accuracies[i] /= bin_counts[i]\n",
    "            bin_confidences[i] /= bin_counts[i]\n",
    "    \n",
    "    # Calculate ECE\n",
    "    ece = 0\n",
    "    for i in range(n_bins):\n",
    "        if bin_counts[i] > 0:\n",
    "            ece += (bin_counts[i] / len(confidences)) * abs(bin_accuracies[i] - bin_confidences[i])\n",
    "    \n",
    "    # Plot\n",
    "    plt.figure(figsize=(10, 8))\n",
    "    bin_centers = (bin_boundaries[:-1] + bin_boundaries[1:]) / 2\n",
    "    \n",
    "    # Plot the bins with data\n",
    "    valid_bins = bin_counts > 0\n",
    "    plt.bar(bin_centers[valid_bins], bin_accuracies[valid_bins], width=1/n_bins, alpha=0.3, label='Accuracy')\n",
    "    plt.plot(bin_centers[valid_bins], bin_confidences[valid_bins], 'ro-', label='Confidence')\n",
    "    \n",
    "    # Perfect calibration line\n",
    "    plt.plot([0, 1], [0, 1], 'k--', label='Perfect calibration')\n",
    "    \n",
    "    plt.xlabel('Confidence')\n",
    "    plt.ylabel('Accuracy')\n",
    "    plt.title(f'Reliability Diagram (ECE: {ece:.4f})')\n",
    "    plt.legend()\n",
    "    plt.grid(True)\n",
    "    plt.savefig('reliability_diagram.png')\n",
    "    plt.show()\n",
    "    \n",
    "    return ece"
   ]
  },
  {
   "cell_type": "code",
   "execution_count": null,
   "metadata": {},
   "outputs": [],
   "source": []
  },
  {
   "cell_type": "code",
   "execution_count": 54,
   "metadata": {},
   "outputs": [
    {
     "data": {
      "image/png": "[encoded data removed]",
      "text/plain": [
       "<Figure size 1000x800 with 1 Axes>"
      ]
     },
     "metadata": {},
     "output_type": "display_data"
    }
   ],
   "source": [
    "ece = plot_single_reliability_diagram(all_probs, y_true_col, n_bins=10)"
   ]
  },
  {
   "cell_type": "code",
   "execution_count": null,
   "metadata": {},
   "outputs": [],
   "source": []
  },
  {
   "cell_type": "code",
   "execution_count": null,
   "metadata": {},
   "outputs": [],
   "source": []
  },
  {
   "cell_type": "markdown",
   "metadata": {},
   "source": [
    "## Inputs creation for the compaison"
   ]
  },
  {
   "cell_type": "code",
   "execution_count": 149,
   "metadata": {},
   "outputs": [],
   "source": [
    "_, y_true_col_ukrroberta, y_pred_col_ukrroberta, all_indeces_ukrroberta, all_probs_ukrroberta = evaluate_model(model, \n",
    "                                                                                                               test_loader, \n",
    "                                                                                                               batch_size=16)"
   ]
  },
  {
   "cell_type": "code",
   "execution_count": 150,
   "metadata": {},
   "outputs": [
    {
     "name": "stderr",
     "output_type": "stream",
     "text": [
      "/opt/conda/lib/python3.11/site-packages/sklearn/metrics/_classification.py:1565: UndefinedMetricWarning: Precision is ill-defined and being set to 0.0 in labels with no predicted samples. Use `zero_division` parameter to control this behavior.\n",
      "  _warn_prf(average, modifier, f\"{metric.capitalize()} is\", len(result))\n",
      "/opt/conda/lib/python3.11/site-packages/sklearn/metrics/_classification.py:1565: UndefinedMetricWarning: Precision is ill-defined and being set to 0.0 in labels with no predicted samples. Use `zero_division` parameter to control this behavior.\n",
      "  _warn_prf(average, modifier, f\"{metric.capitalize()} is\", len(result))\n",
      "/opt/conda/lib/python3.11/site-packages/sklearn/metrics/_classification.py:1565: UndefinedMetricWarning: Precision is ill-defined and being set to 0.0 in labels with no predicted samples. Use `zero_division` parameter to control this behavior.\n",
      "  _warn_prf(average, modifier, f\"{metric.capitalize()} is\", len(result))\n"
     ]
    }
   ],
   "source": [
    "_, y_true_col_bert, y_pred_col_bert, all_indeces_bert, all_probs_bert = evaluate_model(model_bert, \n",
    "                                                                                       test_loader, \n",
    "                                                                                       batch_size=16)"
   ]
  },
  {
   "cell_type": "code",
   "execution_count": 151,
   "metadata": {},
   "outputs": [
    {
     "data": {
      "text/plain": [
       "1223"
      ]
     },
     "execution_count": 151,
     "metadata": {},
     "output_type": "execute_result"
    }
   ],
   "source": [
    "len(y_true_col_bert)"
   ]
  },
  {
   "cell_type": "code",
   "execution_count": null,
   "metadata": {},
   "outputs": [],
   "source": []
  },
  {
   "cell_type": "code",
   "execution_count": 152,
   "metadata": {},
   "outputs": [],
   "source": [
    "def compute_calibration_info(probs, labels, n_bins=10):\n",
    "    \"\"\"\n",
    "    Compute calibration information for a model\n",
    "    \n",
    "    Args:\n",
    "        probs: Predicted probabilities of shape [n_samples, n_classes]\n",
    "        labels: Ground truth labels of shape [n_samples]\n",
    "        n_bins: Number of bins for confidence scores\n",
    "        \n",
    "    Returns:\n",
    "        Dictionary containing calibration information\n",
    "    \"\"\"\n",
    "    confidences = np.max(probs, axis=1)\n",
    "    predictions = np.argmax(probs, axis=1)\n",
    "    accuracies = (predictions == labels)\n",
    "    \n",
    "    bin_boundaries = np.linspace(0, 1, n_bins + 1)\n",
    "    bin_indices = np.digitize(confidences, bin_boundaries, right=True) - 1\n",
    "    bin_indices = np.clip(bin_indices, 0, n_bins - 1)\n",
    "    \n",
    "    bin_accuracies = np.zeros(n_bins)\n",
    "    bin_confidences = np.zeros(n_bins)\n",
    "    bin_counts = np.zeros(n_bins)\n",
    "    \n",
    "    for i in range(len(confidences)):\n",
    "        bin_idx = bin_indices[i]\n",
    "        bin_accuracies[bin_idx] += accuracies[i]\n",
    "        bin_confidences[bin_idx] += confidences[i]\n",
    "        bin_counts[bin_idx] += 1\n",
    "    \n",
    "    for i in range(n_bins):\n",
    "        if bin_counts[i] > 0:\n",
    "            bin_accuracies[i] /= bin_counts[i]\n",
    "            bin_confidences[i] /= bin_counts[i]\n",
    "    \n",
    "    # Calculate ECE\n",
    "    ece = 0\n",
    "    for i in range(n_bins):\n",
    "        if bin_counts[i] > 0:\n",
    "            ece += (bin_counts[i] / len(confidences)) * abs(bin_accuracies[i] - bin_confidences[i])\n",
    "    \n",
    "    return {\n",
    "        'ece': ece,\n",
    "        'bin_accuracies': bin_accuracies,\n",
    "        'bin_confidences': bin_confidences,\n",
    "        'bin_counts': bin_counts,\n",
    "        'bin_boundaries': bin_boundaries,\n",
    "        'accuracy': accuracy_score(predictions, labels)\n",
    "    }"
   ]
  },
  {
   "cell_type": "code",
   "execution_count": null,
   "metadata": {},
   "outputs": [],
   "source": []
  },
  {
   "cell_type": "code",
   "execution_count": 153,
   "metadata": {},
   "outputs": [],
   "source": [
    "roberta_calibration = compute_calibration_info(all_probs_ukrroberta, y_true_col_ukrroberta, n_bins=10)"
   ]
  },
  {
   "cell_type": "code",
   "execution_count": 154,
   "metadata": {},
   "outputs": [],
   "source": [
    "bert_calibration = compute_calibration_info(all_probs_bert, y_true_col_bert, n_bins=10)"
   ]
  },
  {
   "cell_type": "code",
   "execution_count": null,
   "metadata": {},
   "outputs": [],
   "source": []
  },
  {
   "cell_type": "code",
   "execution_count": 155,
   "metadata": {},
   "outputs": [],
   "source": [
    "model_data = {\n",
    "    'UkrRoberta': roberta_calibration,\n",
    "    'mBERT': bert_calibration\n",
    "}\n"
   ]
  },
  {
   "cell_type": "code",
   "execution_count": 156,
   "metadata": {},
   "outputs": [
    {
     "name": "stdout",
     "output_type": "stream",
     "text": [
      "UkrRoberta ECE: 0.16548466994347188\n",
      "mBERT ECE: 0.3243806803216724\n",
      "UkrRoberta Accuracy: 0.678659035159444\n",
      "mBERT Accuracy: 0.3785772690106296\n"
     ]
    }
   ],
   "source": [
    "# Print detailed metrics\n",
    "print(\"UkrRoberta ECE:\", roberta_calibration['ece'])\n",
    "print(\"mBERT ECE:\", bert_calibration['ece'])\n",
    "print(\"UkrRoberta Accuracy:\", roberta_calibration['accuracy'])\n",
    "print(\"mBERT Accuracy:\", bert_calibration['accuracy'])"
   ]
  },
  {
   "cell_type": "code",
   "execution_count": null,
   "metadata": {},
   "outputs": [],
   "source": []
  },
  {
   "cell_type": "code",
   "execution_count": null,
   "metadata": {},
   "outputs": [],
   "source": []
  },
  {
   "cell_type": "code",
   "execution_count": null,
   "metadata": {},
   "outputs": [],
   "source": []
  },
  {
   "cell_type": "markdown",
   "metadata": {},
   "source": [
    "### UA"
   ]
  },
  {
   "cell_type": "code",
   "execution_count": 157,
   "metadata": {},
   "outputs": [],
   "source": [
    "_, y_true_col_ukrroberta, y_pred_col_ukrroberta, all_indeces_ukrroberta, all_probs_ukrroberta = evaluate_model(model, \n",
    "                                                                                                               test_loader_ua, \n",
    "                                                                                                               batch_size=16)"
   ]
  },
  {
   "cell_type": "code",
   "execution_count": 158,
   "metadata": {},
   "outputs": [
    {
     "name": "stderr",
     "output_type": "stream",
     "text": [
      "/opt/conda/lib/python3.11/site-packages/sklearn/metrics/_classification.py:1565: UndefinedMetricWarning: Precision is ill-defined and being set to 0.0 in labels with no predicted samples. Use `zero_division` parameter to control this behavior.\n",
      "  _warn_prf(average, modifier, f\"{metric.capitalize()} is\", len(result))\n",
      "/opt/conda/lib/python3.11/site-packages/sklearn/metrics/_classification.py:1565: UndefinedMetricWarning: Precision is ill-defined and being set to 0.0 in labels with no predicted samples. Use `zero_division` parameter to control this behavior.\n",
      "  _warn_prf(average, modifier, f\"{metric.capitalize()} is\", len(result))\n",
      "/opt/conda/lib/python3.11/site-packages/sklearn/metrics/_classification.py:1565: UndefinedMetricWarning: Precision is ill-defined and being set to 0.0 in labels with no predicted samples. Use `zero_division` parameter to control this behavior.\n",
      "  _warn_prf(average, modifier, f\"{metric.capitalize()} is\", len(result))\n"
     ]
    }
   ],
   "source": [
    "_, y_true_col_bert, y_pred_col_bert, all_indeces_bert, all_probs_bert = evaluate_model(model_bert, \n",
    "                                                                                       test_loader_ua, \n",
    "                                                                                       batch_size=16)"
   ]
  },
  {
   "cell_type": "code",
   "execution_count": 159,
   "metadata": {},
   "outputs": [
    {
     "data": {
      "text/plain": [
       "803"
      ]
     },
     "execution_count": 159,
     "metadata": {},
     "output_type": "execute_result"
    }
   ],
   "source": [
    "len(y_true_col_bert)"
   ]
  },
  {
   "cell_type": "code",
   "execution_count": null,
   "metadata": {},
   "outputs": [],
   "source": []
  },
  {
   "cell_type": "code",
   "execution_count": 160,
   "metadata": {},
   "outputs": [],
   "source": [
    "def compute_calibration_info(probs, labels, n_bins=10):\n",
    "    \"\"\"\n",
    "    Compute calibration information for a model\n",
    "    \n",
    "    Args:\n",
    "        probs: Predicted probabilities of shape [n_samples, n_classes]\n",
    "        labels: Ground truth labels of shape [n_samples]\n",
    "        n_bins: Number of bins for confidence scores\n",
    "        \n",
    "    Returns:\n",
    "        Dictionary containing calibration information\n",
    "    \"\"\"\n",
    "    confidences = np.max(probs, axis=1)\n",
    "    predictions = np.argmax(probs, axis=1)\n",
    "    accuracies = (predictions == labels)\n",
    "    \n",
    "    bin_boundaries = np.linspace(0, 1, n_bins + 1)\n",
    "    bin_indices = np.digitize(confidences, bin_boundaries, right=True) - 1\n",
    "    bin_indices = np.clip(bin_indices, 0, n_bins - 1)\n",
    "    \n",
    "    bin_accuracies = np.zeros(n_bins)\n",
    "    bin_confidences = np.zeros(n_bins)\n",
    "    bin_counts = np.zeros(n_bins)\n",
    "    \n",
    "    for i in range(len(confidences)):\n",
    "        bin_idx = bin_indices[i]\n",
    "        bin_accuracies[bin_idx] += accuracies[i]\n",
    "        bin_confidences[bin_idx] += confidences[i]\n",
    "        bin_counts[bin_idx] += 1\n",
    "    \n",
    "    for i in range(n_bins):\n",
    "        if bin_counts[i] > 0:\n",
    "            bin_accuracies[i] /= bin_counts[i]\n",
    "            bin_confidences[i] /= bin_counts[i]\n",
    "    \n",
    "    # Calculate ECE\n",
    "    ece = 0\n",
    "    for i in range(n_bins):\n",
    "        if bin_counts[i] > 0:\n",
    "            ece += (bin_counts[i] / len(confidences)) * abs(bin_accuracies[i] - bin_confidences[i])\n",
    "    \n",
    "    return {\n",
    "        'ece': ece,\n",
    "        'bin_accuracies': bin_accuracies,\n",
    "        'bin_confidences': bin_confidences,\n",
    "        'bin_counts': bin_counts,\n",
    "        'bin_boundaries': bin_boundaries,\n",
    "        'accuracy': accuracy_score(predictions, labels)\n",
    "    }"
   ]
  },
  {
   "cell_type": "code",
   "execution_count": null,
   "metadata": {},
   "outputs": [],
   "source": []
  },
  {
   "cell_type": "code",
   "execution_count": 161,
   "metadata": {},
   "outputs": [],
   "source": [
    "roberta_calibration = compute_calibration_info(all_probs_ukrroberta, y_true_col_ukrroberta, n_bins=10)"
   ]
  },
  {
   "cell_type": "code",
   "execution_count": 162,
   "metadata": {},
   "outputs": [],
   "source": [
    "bert_calibration = compute_calibration_info(all_probs_bert, y_true_col_bert, n_bins=10)"
   ]
  },
  {
   "cell_type": "code",
   "execution_count": null,
   "metadata": {},
   "outputs": [],
   "source": []
  },
  {
   "cell_type": "code",
   "execution_count": 163,
   "metadata": {},
   "outputs": [],
   "source": [
    "model_data = {\n",
    "    'UkrRoberta': roberta_calibration,\n",
    "    'mBERT': bert_calibration\n",
    "}\n"
   ]
  },
  {
   "cell_type": "code",
   "execution_count": 164,
   "metadata": {},
   "outputs": [
    {
     "name": "stdout",
     "output_type": "stream",
     "text": [
      "UkrRoberta ECE: 0.16264413543982642\n",
      "mBERT ECE: 0.3995962035685666\n",
      "UkrRoberta Accuracy: 0.6899128268991283\n",
      "mBERT Accuracy: 0.30759651307596514\n"
     ]
    }
   ],
   "source": [
    "# Print detailed metrics\n",
    "print(\"UkrRoberta ECE:\", roberta_calibration['ece'])\n",
    "print(\"mBERT ECE:\", bert_calibration['ece'])\n",
    "print(\"UkrRoberta Accuracy:\", roberta_calibration['accuracy'])\n",
    "print(\"mBERT Accuracy:\", bert_calibration['accuracy'])"
   ]
  },
  {
   "cell_type": "code",
   "execution_count": null,
   "metadata": {},
   "outputs": [],
   "source": []
  },
  {
   "cell_type": "code",
   "execution_count": null,
   "metadata": {},
   "outputs": [],
   "source": []
  },
  {
   "cell_type": "code",
   "execution_count": null,
   "metadata": {},
   "outputs": [],
   "source": []
  },
  {
   "cell_type": "markdown",
   "metadata": {},
   "source": [
    "### RU"
   ]
  },
  {
   "cell_type": "code",
   "execution_count": 165,
   "metadata": {},
   "outputs": [],
   "source": [
    "_, y_true_col_ukrroberta, y_pred_col_ukrroberta, all_indeces_ukrroberta, all_probs_ukrroberta = evaluate_model(model, \n",
    "                                                                                                               test_loader_ru, \n",
    "                                                                                                               batch_size=16)"
   ]
  },
  {
   "cell_type": "code",
   "execution_count": 166,
   "metadata": {},
   "outputs": [
    {
     "name": "stderr",
     "output_type": "stream",
     "text": [
      "/opt/conda/lib/python3.11/site-packages/sklearn/metrics/_classification.py:1565: UndefinedMetricWarning: Precision is ill-defined and being set to 0.0 in labels with no predicted samples. Use `zero_division` parameter to control this behavior.\n",
      "  _warn_prf(average, modifier, f\"{metric.capitalize()} is\", len(result))\n",
      "/opt/conda/lib/python3.11/site-packages/sklearn/metrics/_classification.py:1565: UndefinedMetricWarning: Precision is ill-defined and being set to 0.0 in labels with no predicted samples. Use `zero_division` parameter to control this behavior.\n",
      "  _warn_prf(average, modifier, f\"{metric.capitalize()} is\", len(result))\n",
      "/opt/conda/lib/python3.11/site-packages/sklearn/metrics/_classification.py:1565: UndefinedMetricWarning: Precision is ill-defined and being set to 0.0 in labels with no predicted samples. Use `zero_division` parameter to control this behavior.\n",
      "  _warn_prf(average, modifier, f\"{metric.capitalize()} is\", len(result))\n"
     ]
    }
   ],
   "source": [
    "_, y_true_col_bert, y_pred_col_bert, all_indeces_bert, all_probs_bert = evaluate_model(model_bert, \n",
    "                                                                                       test_loader_ru, \n",
    "                                                                                       batch_size=16)"
   ]
  },
  {
   "cell_type": "code",
   "execution_count": 167,
   "metadata": {},
   "outputs": [
    {
     "data": {
      "text/plain": [
       "357"
      ]
     },
     "execution_count": 167,
     "metadata": {},
     "output_type": "execute_result"
    }
   ],
   "source": [
    "len(y_true_col_bert)"
   ]
  },
  {
   "cell_type": "code",
   "execution_count": null,
   "metadata": {},
   "outputs": [],
   "source": []
  },
  {
   "cell_type": "code",
   "execution_count": 168,
   "metadata": {},
   "outputs": [],
   "source": [
    "def compute_calibration_info(probs, labels, n_bins=10):\n",
    "    \"\"\"\n",
    "    Compute calibration information for a model\n",
    "    \n",
    "    Args:\n",
    "        probs: Predicted probabilities of shape [n_samples, n_classes]\n",
    "        labels: Ground truth labels of shape [n_samples]\n",
    "        n_bins: Number of bins for confidence scores\n",
    "        \n",
    "    Returns:\n",
    "        Dictionary containing calibration information\n",
    "    \"\"\"\n",
    "    confidences = np.max(probs, axis=1)\n",
    "    predictions = np.argmax(probs, axis=1)\n",
    "    accuracies = (predictions == labels)\n",
    "    \n",
    "    bin_boundaries = np.linspace(0, 1, n_bins + 1)\n",
    "    bin_indices = np.digitize(confidences, bin_boundaries, right=True) - 1\n",
    "    bin_indices = np.clip(bin_indices, 0, n_bins - 1)\n",
    "    \n",
    "    bin_accuracies = np.zeros(n_bins)\n",
    "    bin_confidences = np.zeros(n_bins)\n",
    "    bin_counts = np.zeros(n_bins)\n",
    "    \n",
    "    for i in range(len(confidences)):\n",
    "        bin_idx = bin_indices[i]\n",
    "        bin_accuracies[bin_idx] += accuracies[i]\n",
    "        bin_confidences[bin_idx] += confidences[i]\n",
    "        bin_counts[bin_idx] += 1\n",
    "    \n",
    "    for i in range(n_bins):\n",
    "        if bin_counts[i] > 0:\n",
    "            bin_accuracies[i] /= bin_counts[i]\n",
    "            bin_confidences[i] /= bin_counts[i]\n",
    "    \n",
    "    # Calculate ECE\n",
    "    ece = 0\n",
    "    for i in range(n_bins):\n",
    "        if bin_counts[i] > 0:\n",
    "            ece += (bin_counts[i] / len(confidences)) * abs(bin_accuracies[i] - bin_confidences[i])\n",
    "    \n",
    "    return {\n",
    "        'ece': ece,\n",
    "        'bin_accuracies': bin_accuracies,\n",
    "        'bin_confidences': bin_confidences,\n",
    "        'bin_counts': bin_counts,\n",
    "        'bin_boundaries': bin_boundaries,\n",
    "        'accuracy': accuracy_score(predictions, labels)\n",
    "    }"
   ]
  },
  {
   "cell_type": "code",
   "execution_count": null,
   "metadata": {},
   "outputs": [],
   "source": []
  },
  {
   "cell_type": "code",
   "execution_count": 169,
   "metadata": {},
   "outputs": [],
   "source": [
    "roberta_calibration = compute_calibration_info(all_probs_ukrroberta, y_true_col_ukrroberta, n_bins=10)"
   ]
  },
  {
   "cell_type": "code",
   "execution_count": 170,
   "metadata": {},
   "outputs": [],
   "source": [
    "bert_calibration = compute_calibration_info(all_probs_bert, y_true_col_bert, n_bins=10)"
   ]
  },
  {
   "cell_type": "code",
   "execution_count": null,
   "metadata": {},
   "outputs": [],
   "source": []
  },
  {
   "cell_type": "code",
   "execution_count": 171,
   "metadata": {},
   "outputs": [],
   "source": [
    "model_data = {\n",
    "    'UkrRoberta': roberta_calibration,\n",
    "    'mBERT': bert_calibration\n",
    "}\n"
   ]
  },
  {
   "cell_type": "code",
   "execution_count": 172,
   "metadata": {},
   "outputs": [
    {
     "name": "stdout",
     "output_type": "stream",
     "text": [
      "UkrRoberta ECE: 0.1790812539787186\n",
      "mBERT ECE: 0.16651570763574594\n",
      "UkrRoberta Accuracy: 0.6442577030812325\n",
      "mBERT Accuracy: 0.5182072829131653\n"
     ]
    }
   ],
   "source": [
    "# Print detailed metrics\n",
    "print(\"UkrRoberta ECE:\", roberta_calibration['ece'])\n",
    "print(\"mBERT ECE:\", bert_calibration['ece'])\n",
    "print(\"UkrRoberta Accuracy:\", roberta_calibration['accuracy'])\n",
    "print(\"mBERT Accuracy:\", bert_calibration['accuracy'])"
   ]
  },
  {
   "cell_type": "code",
   "execution_count": null,
   "metadata": {},
   "outputs": [],
   "source": []
  },
  {
   "cell_type": "code",
   "execution_count": null,
   "metadata": {},
   "outputs": [],
   "source": []
  },
  {
   "cell_type": "code",
   "execution_count": null,
   "metadata": {},
   "outputs": [],
   "source": []
  },
  {
   "cell_type": "markdown",
   "metadata": {},
   "source": [
    "### MIXED"
   ]
  },
  {
   "cell_type": "code",
   "execution_count": 173,
   "metadata": {},
   "outputs": [],
   "source": [
    "_, y_true_col_ukrroberta, y_pred_col_ukrroberta, all_indeces_ukrroberta, all_probs_ukrroberta = evaluate_model(model, \n",
    "                                                                                                               test_loader_mixed, \n",
    "                                                                                                               batch_size=16)"
   ]
  },
  {
   "cell_type": "code",
   "execution_count": 174,
   "metadata": {},
   "outputs": [
    {
     "name": "stderr",
     "output_type": "stream",
     "text": [
      "/opt/conda/lib/python3.11/site-packages/sklearn/metrics/_classification.py:1565: UndefinedMetricWarning: Precision is ill-defined and being set to 0.0 in labels with no predicted samples. Use `zero_division` parameter to control this behavior.\n",
      "  _warn_prf(average, modifier, f\"{metric.capitalize()} is\", len(result))\n",
      "/opt/conda/lib/python3.11/site-packages/sklearn/metrics/_classification.py:1565: UndefinedMetricWarning: Precision is ill-defined and being set to 0.0 in labels with no predicted samples. Use `zero_division` parameter to control this behavior.\n",
      "  _warn_prf(average, modifier, f\"{metric.capitalize()} is\", len(result))\n",
      "/opt/conda/lib/python3.11/site-packages/sklearn/metrics/_classification.py:1565: UndefinedMetricWarning: Precision is ill-defined and being set to 0.0 in labels with no predicted samples. Use `zero_division` parameter to control this behavior.\n",
      "  _warn_prf(average, modifier, f\"{metric.capitalize()} is\", len(result))\n"
     ]
    }
   ],
   "source": [
    "_, y_true_col_bert, y_pred_col_bert, all_indeces_bert, all_probs_bert = evaluate_model(model_bert, \n",
    "                                                                                       test_loader_mixed, \n",
    "                                                                                       batch_size=16)"
   ]
  },
  {
   "cell_type": "code",
   "execution_count": 175,
   "metadata": {},
   "outputs": [
    {
     "data": {
      "text/plain": [
       "63"
      ]
     },
     "execution_count": 175,
     "metadata": {},
     "output_type": "execute_result"
    }
   ],
   "source": [
    "len(y_true_col_bert)"
   ]
  },
  {
   "cell_type": "code",
   "execution_count": null,
   "metadata": {},
   "outputs": [],
   "source": []
  },
  {
   "cell_type": "code",
   "execution_count": 176,
   "metadata": {},
   "outputs": [],
   "source": [
    "def compute_calibration_info(probs, labels, n_bins=10):\n",
    "    \"\"\"\n",
    "    Compute calibration information for a model\n",
    "    \n",
    "    Args:\n",
    "        probs: Predicted probabilities of shape [n_samples, n_classes]\n",
    "        labels: Ground truth labels of shape [n_samples]\n",
    "        n_bins: Number of bins for confidence scores\n",
    "        \n",
    "    Returns:\n",
    "        Dictionary containing calibration information\n",
    "    \"\"\"\n",
    "    confidences = np.max(probs, axis=1)\n",
    "    predictions = np.argmax(probs, axis=1)\n",
    "    accuracies = (predictions == labels)\n",
    "    \n",
    "    bin_boundaries = np.linspace(0, 1, n_bins + 1)\n",
    "    bin_indices = np.digitize(confidences, bin_boundaries, right=True) - 1\n",
    "    bin_indices = np.clip(bin_indices, 0, n_bins - 1)\n",
    "    \n",
    "    bin_accuracies = np.zeros(n_bins)\n",
    "    bin_confidences = np.zeros(n_bins)\n",
    "    bin_counts = np.zeros(n_bins)\n",
    "    \n",
    "    for i in range(len(confidences)):\n",
    "        bin_idx = bin_indices[i]\n",
    "        bin_accuracies[bin_idx] += accuracies[i]\n",
    "        bin_confidences[bin_idx] += confidences[i]\n",
    "        bin_counts[bin_idx] += 1\n",
    "    \n",
    "    for i in range(n_bins):\n",
    "        if bin_counts[i] > 0:\n",
    "            bin_accuracies[i] /= bin_counts[i]\n",
    "            bin_confidences[i] /= bin_counts[i]\n",
    "    \n",
    "    # Calculate ECE\n",
    "    ece = 0\n",
    "    for i in range(n_bins):\n",
    "        if bin_counts[i] > 0:\n",
    "            ece += (bin_counts[i] / len(confidences)) * abs(bin_accuracies[i] - bin_confidences[i])\n",
    "    \n",
    "    return {\n",
    "        'ece': ece,\n",
    "        'bin_accuracies': bin_accuracies,\n",
    "        'bin_confidences': bin_confidences,\n",
    "        'bin_counts': bin_counts,\n",
    "        'bin_boundaries': bin_boundaries,\n",
    "        'accuracy': accuracy_score(predictions, labels)\n",
    "    }"
   ]
  },
  {
   "cell_type": "code",
   "execution_count": null,
   "metadata": {},
   "outputs": [],
   "source": []
  },
  {
   "cell_type": "code",
   "execution_count": 177,
   "metadata": {},
   "outputs": [],
   "source": [
    "roberta_calibration = compute_calibration_info(all_probs_ukrroberta, y_true_col_ukrroberta, n_bins=10)"
   ]
  },
  {
   "cell_type": "code",
   "execution_count": 178,
   "metadata": {},
   "outputs": [],
   "source": [
    "bert_calibration = compute_calibration_info(all_probs_bert, y_true_col_bert, n_bins=10)"
   ]
  },
  {
   "cell_type": "code",
   "execution_count": null,
   "metadata": {},
   "outputs": [],
   "source": []
  },
  {
   "cell_type": "code",
   "execution_count": 179,
   "metadata": {},
   "outputs": [],
   "source": [
    "model_data = {\n",
    "    'UkrRoberta': roberta_calibration,\n",
    "    'mBERT': bert_calibration\n",
    "}\n"
   ]
  },
  {
   "cell_type": "code",
   "execution_count": 180,
   "metadata": {},
   "outputs": [
    {
     "name": "stdout",
     "output_type": "stream",
     "text": [
      "UkrRoberta ECE: 0.12604201076522709\n",
      "mBERT ECE: 0.35396601472582134\n",
      "UkrRoberta Accuracy: 0.7301587301587301\n",
      "mBERT Accuracy: 0.49206349206349204\n"
     ]
    }
   ],
   "source": [
    "# Print detailed metrics\n",
    "print(\"UkrRoberta ECE:\", roberta_calibration['ece'])\n",
    "print(\"mBERT ECE:\", bert_calibration['ece'])\n",
    "print(\"UkrRoberta Accuracy:\", roberta_calibration['accuracy'])\n",
    "print(\"mBERT Accuracy:\", bert_calibration['accuracy'])"
   ]
  },
  {
   "cell_type": "code",
   "execution_count": null,
   "metadata": {},
   "outputs": [],
   "source": []
  },
  {
   "cell_type": "code",
   "execution_count": null,
   "metadata": {},
   "outputs": [],
   "source": []
  }
 ],
 "metadata": {
  "accelerator": "GPU",
  "colab": {
   "gpuType": "T4",
   "provenance": [],
   "toc_visible": true
  },
  "kernelspec": {
   "display_name": "Python 3 (ipykernel)",
   "language": "python",
   "name": "python3"
  },
  "language_info": {
   "codemirror_mode": {
    "name": "ipython",
    "version": 3
   },
   "file_extension": ".py",
   "mimetype": "text/x-python",
   "name": "python",
   "nbconvert_exporter": "python",
   "pygments_lexer": "ipython3",
   "version": "3.11.10"
  }
 },
 "nbformat": 4,
 "nbformat_minor": 4
}
